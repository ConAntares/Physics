{
 "cells": [
  {
   "cell_type": "markdown",
   "metadata": {},
   "source": [
    "# Introduction to Linear Algebra\n",
    "\n",
    "## Solving Linear Equation\n",
    "\n",
    "The following demonstrates a system of linear equations:\n",
    "$$ 2a + 3b = 8 $$\n",
    "$$ 10a + 16 = 13 $$\n",
    "\n",
    "We write it into vector form:\n",
    "$$\\left[\\begin{matrix}\n",
    "2 & 3 \\\\\n",
    "10 & 1\n",
    "\\end{matrix}\\right]\n",
    "\\left[\\begin{matrix}\n",
    "a \\\\\n",
    "b\n",
    "\\end{matrix}\\right]=\n",
    "\\left[\\begin{matrix}\n",
    "8 \\\\\n",
    "13\n",
    "\\end{matrix}\\right]$$"
   ]
  },
  {
   "cell_type": "markdown",
   "metadata": {},
   "source": []
  }
 ],
 "metadata": {
  "language_info": {
   "name": "python"
  },
  "orig_nbformat": 4
 },
 "nbformat": 4,
 "nbformat_minor": 2
}
