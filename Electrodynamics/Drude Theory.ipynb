{
 "cells": [
  {
   "cell_type": "markdown",
   "metadata": {},
   "source": [
    "# Drude theory\n",
    "\n",
    "## Theory introduction\n",
    "\n",
    "* Theory by Paul Drude in 1900, three years after the electron was discovered.\n",
    "* Drude treated the free electrons as a classical ideal gas but the electrons collide with the stationary ions, not with each other.\n",
    "\n",
    "The theory assumes that there is no interaction with each electron, independent electron approximation interaction between electrons and core instantaneous and short-range:\n",
    "\n",
    "We start from the kinetic theory of gases:\n",
    "\n",
    "$$ \\frac{1}{2}m⟨v_t⟩^2 = \\frac{3}{2}k_BT $$\n",
    "\n",
    "where $k_B$ is Boltzmann constant, and $T$ the absolute temperature defined by the ideal gas law. Then, we can get the molecular average velocity:\n",
    "\n",
    "$$ ⟨v_t⟩ = \\sqrt{\\frac{3k_BT}{m}} $$\n"
   ]
  },
  {
   "cell_type": "markdown",
   "metadata": {},
   "source": [
    "### There are three assumptions in Drude theory:\n",
    "\n",
    "1. Electrons have a scattering/relaxation time $\\tau$ which means the average time between scattering events;\n",
    "\n",
    "2. Scattered, the electron returns to zero momentum;\n",
    "\n",
    "3. In between scattering events, the electrons respond to electric and magnetic fields.\n",
    "\n",
    "The mean free path between electrons:\n",
    "\n",
    "$$ \\lambda = \\tau v_t $$\n",
    "\n",
    "Normally, at room temperature, the orders of magnitude of mean molecular velocity is $⟨v_t⟩ \\approx 10^5{\\rm ms^{-1}}$; The mean free path is $\\lambda \\approx 1 {\\rm nm}$; And the mean relaxation time is $\\tau \\approx 1 \\times 10^{-14}{\\rm s}$\n"
   ]
  },
  {
   "cell_type": "markdown",
   "metadata": {},
   "source": [
    "### Electrons in an electric field\n",
    "\n",
    "In steady state the equation of motion is:\n",
    "\n",
    "$$ m_e\\frac{\\mathrm{d}\\vec{v}}{\\mathrm{d}t} = - e\\vec{\\varepsilon} $$\n",
    "\n",
    "Integration gives:\n",
    "\n",
    "$$ \\vec{v}(t) = \\frac{-e\\vec\\varepsilon t}{m_e} $$\n",
    "\n",
    "and if $\\tau$ is the average time between collisions, then the average drift speed is:\n",
    "\n",
    "$$ ⟨v⟩ = \\frac{-e\\vec\\varepsilon \\tau}{m_e} $$\n",
    "\n",
    "for $\\varepsilon \\approx 10 \\mathrm{Vm^{-1}}$, we get $⟨v⟩ \\approx 10^{-2}\\mathrm{ms^{-1}}$.\n"
   ]
  },
  {
   "cell_type": "markdown",
   "metadata": {},
   "source": [
    "### Electrical conductivity\n",
    "\n",
    "We introduce the density of electrons: $n = \\frac{N}{V}$. The total number of electrons pass in unit time can be demonstrated as:\n",
    "\n",
    "$$ N/t = nvA $$\n",
    "\n",
    "Where $A$ is the cross-sectional area of the conductor. Then, we get the current of negatively charged electrons:\n",
    "\n",
    "$$ i = \\frac{Q}{t} = \\frac{N(-e)}{t} = -envA $$\n",
    "\n",
    "$$ \\vec{i} = -en\\vec{v}A $$\n",
    "\n",
    "and the current density:\n",
    "\n",
    "$$ \\vec{j} = \\frac{\\vec{i}}{A} = n⟨\\vec{v}⟩(-e) $$\n",
    "\n",
    "Then, we get the Ohm's law:\n",
    "\n",
    "$$ \\vec{j} = \\frac{ne^2\\tau}{m_e}\\vec\\varepsilon $$\n",
    "\n",
    "$$ \\vec{j} = \\sigma\\vec\\varepsilon = \\frac{\\vec\\varepsilon}{\\rho} $$\n",
    "\n",
    "Where, $\\mu$ is the mobility:\n",
    "\n",
    "$$ \\mu = \\frac{⟨\\vec\\varepsilon⟩}{⟨\\vec v⟩} = \\frac{e\\tau}{m_e} $$\n",
    "\n",
    "$\\sigma$ is the conductivity:\n",
    "\n",
    "$$ \\sigma = \\frac{ne^2\\tau}{m_e} = n\\mu e $$\n",
    "\n",
    "$\\rho$ is the resistivity:\n",
    "\n",
    "$$ \\rho = \\frac{m_e}{ne^2\\tau} = \\frac{1}{n\\mu e} = \\sigma^{-1} $$\n"
   ]
  },
  {
   "cell_type": "code",
   "execution_count": 13,
   "metadata": {},
   "outputs": [],
   "source": [
    "# Conductivity\n",
    "\n",
    "import numpy as np\n",
    "\n",
    "e = 2.71828182845904523536\n",
    "τ = np.matrix([1e-16, 1e-15, 1e-14, 1e-13])\n",
    "m = 9.1093837e-31\n"
   ]
  }
 ],
 "metadata": {
  "kernelspec": {
   "display_name": "Python 3.10.8 64-bit",
   "language": "python",
   "name": "python3"
  },
  "language_info": {
   "codemirror_mode": {
    "name": "ipython",
    "version": 3
   },
   "file_extension": ".py",
   "mimetype": "text/x-python",
   "name": "python",
   "nbconvert_exporter": "python",
   "pygments_lexer": "ipython3",
   "version": "3.10.9"
  },
  "orig_nbformat": 4,
  "vscode": {
   "interpreter": {
    "hash": "e7370f93d1d0cde622a1f8e1c04877d8463912d04d973331ad4851f04de6915a"
   }
  }
 },
 "nbformat": 4,
 "nbformat_minor": 2
}
