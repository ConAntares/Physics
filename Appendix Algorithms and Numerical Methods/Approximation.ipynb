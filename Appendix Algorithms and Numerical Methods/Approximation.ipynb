{
 "cells": [
  {
   "attachments": {},
   "cell_type": "markdown",
   "metadata": {},
   "source": [
    "# Approximation\n",
    "\n",
    "## Taylor approximation\n",
    "\n",
    "Taylor approximation is an application of the Taylor series. It is a mathematical method used to approximate functions that are smooth and differentiable in a neighborhood of a given point. It is named after the English mathematician Brook Taylor, who introduced the concept in the early 18th century. \n",
    "\n",
    "The Taylor approximation expresses a function as an infinite sum of terms, with each term being a multiple of the function's derivatives at a specific point. The general formula for the Taylor series of a function $f(x)$ around a point $\\mathrm a$ is:\n",
    "\n",
    "$$\\begin{aligned}\n",
    "f(x)&=f(a)+\\frac{f'(a)}{1!}(x-a)+\\frac{f''(a)}{2!}(x-a)^2+\\frac{f^{(3)}(a)}{3!}(x-a)^3+\\cdots+\\frac{f^{(n)}(a)}{n!}(x-a)^n+\\cdots \\\\ \n",
    "&=\\sum_{i=0} \\frac{f^{(i)}(a)}{i!}(x-a)^i \\\\\n",
    "&=f(a)+\\nabla f(a)^T(x-a)\\end{aligned}$$\n",
    "\n",
    "Taylor approximation involves using a Taylor series to approximate a function in a neighborhood of a specific point. By taking a finite number of terms from the Taylor series, you can create a Taylor polynomial that serves as an approximation of the original function.\n",
    "\n",
    "The accuracy of the approximation depends on the number of terms used in the Taylor polynomial. The more terms included, the better the approximation becomes. However, it may also become more computationally expensive."
   ]
  },
  {
   "cell_type": "code",
   "execution_count": null,
   "metadata": {},
   "outputs": [],
   "source": [
    "import numpy as np\n",
    "\n",
    "f = lambda x: x[0] + np.exp(x[1] - x[0])\n",
    "grad = lambda a: np.array([1 - np.exp(a[1] - a[0]), np.exp(a[1]- a[0])])\n",
    "a = np.array([0, 0])\n",
    "r = lambda x: f(a) + grad(a) @ (x - a)\n"
   ]
  },
  {
   "cell_type": "markdown",
   "metadata": {},
   "source": []
  }
 ],
 "metadata": {
  "kernelspec": {
   "display_name": "Python 3",
   "language": "python",
   "name": "python3"
  },
  "language_info": {
   "name": "python",
   "version": "3.10.10"
  },
  "orig_nbformat": 4
 },
 "nbformat": 4,
 "nbformat_minor": 2
}
