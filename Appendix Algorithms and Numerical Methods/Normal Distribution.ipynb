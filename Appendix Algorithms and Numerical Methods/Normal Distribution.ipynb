{
 "cells": [
  {
   "cell_type": "markdown",
   "metadata": {},
   "source": [
    "# Normal distribution:\n",
    "\n",
    "$$ \\mathcal{N}(\\mu,\\sigma^2): f(x) = \\frac{1}{\\sqrt{2\\pi}\\sigma}\\exp\\left\\{{\\frac{-(x-\\mu)^2}{2\\sigma^2}}\\right\\}  $$"
   ]
  },
  {
   "cell_type": "code",
   "execution_count": null,
   "metadata": {},
   "outputs": [],
   "source": [
    "# Normal distribution\n",
    "\n",
    "import numpy as np; \n",
    "import matplotlib; import matplotlib.pyplot as plt\n",
    "\n",
    "sigma_set = np.array([1, np.sqrt(2), np.sqrt(4), np.sqrt(8)]); mu = 0\n",
    "x_scale = np.linspace(-10, 10, 10000)\n",
    "pro = np.empty((len(sigma_set), len(x_scale))); cycle = 0\n",
    "\n",
    "for sigma in sigma_set:\n",
    "    pro[cycle] = 1/(sigma*np.sqrt(2*np.pi)) * np.exp(-(x_scale-mu)**2/(2*sigma**2))\n",
    "    cycle = cycle + 1\n",
    "    \n",
    "plt.figure(dpi=128); params = {\"text.usetex\":True, \"font.family\":\"serif\", \"mathtext.fontset\":\"cm\", \"axes.titlesize\": 16, \"axes.labelsize\":14, \"figure.facecolor\":\"w\"}\n",
    "matplotlib.rcParams.update(params)\n",
    "plt.tick_params(direction=\"in\",top=True,right=True,bottom=True,left=True)\n",
    "plt.title(\"Normal distribution\"); plt.xlabel(r\"$\\chi$\"); plt.ylabel(r\"$\\mathcal{N}_{\\mu,\\sigma^2}(\\chi)$\")\n",
    "plt.xticks([-10,-7.5,-5,-2.5,0,2.5,5,7.5,10],[r\"$\\mu-10.0$\",r\"$\\mu-7.5$\",r\"$\\mu-5.0$\",r\"$\\mu-2.5$\",r\"$\\mu$\",r\"$\\mu+2.5$\",r\"$\\mu+5.0$\",r\"$\\mu+7.5$\",r\"$\\mu+10.0$\"])\n",
    "plt.plot(x_scale, pro[0], label=r\"$\\sigma^2=1$\")\n",
    "plt.plot(x_scale, pro[1], label=r\"$\\sigma^2=2$\")\n",
    "plt.plot(x_scale, pro[2], label=r\"$\\sigma^2=4$\")\n",
    "plt.plot(x_scale, pro[3], label=r\"$\\sigma^2=8$\")\n",
    "plt.legend(loc=\"best\")"
   ]
  }
 ],
 "metadata": {
  "interpreter": {
   "hash": "f9f85f796d01129d0dd105a088854619f454435301f6ffec2fea96ecbd9be4ac"
  },
  "kernelspec": {
   "display_name": "Python 3.9.10 64-bit",
   "language": "python",
   "name": "python3"
  },
  "language_info": {
   "name": "python",
   "version": "3.9.10"
  },
  "orig_nbformat": 4
 },
 "nbformat": 4,
 "nbformat_minor": 2
}
