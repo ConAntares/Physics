{
 "cells": [
  {
   "cell_type": "markdown",
   "metadata": {},
   "source": [
    "# Perceptron\n",
    "\n",
    "## Simple Perceptron\n",
    "\n",
    "### AND function"
   ]
  },
  {
   "cell_type": "code",
   "execution_count": 6,
   "metadata": {},
   "outputs": [
    {
     "name": "stdout",
     "output_type": "stream",
     "text": [
      "0 & 0 = 0\n",
      "0 & 1 = 0\n",
      "1 & 0 = 0\n",
      "1 & 1 = 1\n"
     ]
    }
   ],
   "source": [
    "# Received an AND function with parameters (x1, x2)\n",
    "\n",
    "def AND(x1,x2):\n",
    "    w1 = 0.5\n",
    "    w2 = 0.5\n",
    "    θ  = 0.75\n",
    "    t  = x1*w1 + x2*w2\n",
    "    if t <= θ:\n",
    "        return 0\n",
    "    elif t > θ:\n",
    "        return 1\n",
    "\n",
    "print(\"0 & 0 =\", AND(0,0))\n",
    "print(\"0 & 1 =\", AND(0,1))\n",
    "print(\"1 & 0 =\", AND(1,0))\n",
    "print(\"1 & 1 =\", AND(1,1))"
   ]
  },
  {
   "cell_type": "markdown",
   "metadata": {},
   "source": [
    "### OR function"
   ]
  },
  {
   "cell_type": "code",
   "execution_count": null,
   "metadata": {},
   "outputs": [],
   "source": [
    "# Received an OR function with parameters (x1, x2)\n",
    "\n",
    "def OR(x1,x2):\n",
    "    w1 = 0.5\n",
    "    w2 = 0.5\n",
    "    θ  = 0.25\n",
    "    t  = x1*w1 + x2*w2\n",
    "    if t <= θ:\n",
    "        return 0\n",
    "    elif t > θ:\n",
    "        return 1\n",
    "\n",
    "print(OR(0,0))     # 0\n",
    "print(OR(0,1))     # 1\n",
    "print(OR(1,0))     # 1\n",
    "print(OR(1,1))     # 1"
   ]
  }
 ],
 "metadata": {
  "interpreter": {
   "hash": "f9f85f796d01129d0dd105a088854619f454435301f6ffec2fea96ecbd9be4ac"
  },
  "kernelspec": {
   "display_name": "Python 3.9.12 64-bit",
   "language": "python",
   "name": "python3"
  },
  "language_info": {
   "codemirror_mode": {
    "name": "ipython",
    "version": 3
   },
   "file_extension": ".py",
   "mimetype": "text/x-python",
   "name": "python",
   "nbconvert_exporter": "python",
   "pygments_lexer": "ipython3",
   "version": "3.9.12"
  },
  "orig_nbformat": 4
 },
 "nbformat": 4,
 "nbformat_minor": 2
}
