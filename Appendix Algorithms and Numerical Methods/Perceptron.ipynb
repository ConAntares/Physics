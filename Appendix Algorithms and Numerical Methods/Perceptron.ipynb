{
 "cells": [
  {
   "cell_type": "markdown",
   "metadata": {},
   "source": [
    "# Perceptron\n",
    "\n",
    "## AND gate\n",
    "\n",
    "### Introduction\n",
    "\n",
    "The AND gate is a basic digital logic gate that implements logical conjunction ($∧$) from mathematical logic – AND gate behaves according to the truth table above. A HIGH output ($1$) results only if all the inputs to the AND gate are HIGH. If not all inputs to the AND gate are HIGH, LOW output ($0$) results. The function can be extended to any number of inputs. It can also be denoted as symbol $∧$ or $\\&$. \n",
    "\n",
    "The AND gate with inputs A and B and output C implements the logical expression  $C=A\\cdot B$. This expression also may be denoted as $C = A ∧ B$, or $C = A \\& B$. \n",
    "\n",
    "### Analytical representation\n",
    "\n",
    "$f(a,b)=a\\cdot b$ is the analytical representation of AND gate: \n",
    "\n",
    "* $ f(0,0) = 0\\cdot 0 = 0 $\n",
    "* $ f(0,1) = 0\\cdot 1 = 0 $\n",
    "* $ f(1,0) = 1\\cdot 0 = 0 $\n",
    "* $ f(1,1) = 1\\cdot 1 = 1 $"
   ]
  },
  {
   "cell_type": "code",
   "execution_count": 1,
   "metadata": {},
   "outputs": [],
   "source": [
    "# Received an AND function with parameters (x1, x2)\n",
    "\n",
    "def AND(x1,x2):\n",
    "    w1 = 0.5\n",
    "    w2 = 0.5\n",
    "    θ  = 0.75\n",
    "    t  = x1 * w1 + x2 * w2\n",
    "    if t <= θ:\n",
    "        return 0\n",
    "    elif t > θ:\n",
    "        return 1"
   ]
  },
  {
   "cell_type": "markdown",
   "metadata": {},
   "source": [
    "### AND gate with weight and bias\n"
   ]
  },
  {
   "cell_type": "code",
   "execution_count": null,
   "metadata": {},
   "outputs": [],
   "source": [
    "# Received an AND function with parameters (x1, x2), bias (b), and weight (w1, w2) \n",
    "\n",
    "import numpy as np\n",
    "\n",
    "def AND(x1, x2):\n",
    "    x = np.array([x1, x2])\n",
    "    w = np.array([0.5, 0.5])\n",
    "    b = -0.75\n",
    "    t = np.sum(w*x) + b\n",
    "    if t <= 0:\n",
    "        return 0\n",
    "    else:\n",
    "        return 1"
   ]
  },
  {
   "cell_type": "markdown",
   "metadata": {},
   "source": [
    "## OR gate\n",
    "\n",
    "The OR gate is a digital logic gate that implements logical disjunction ($∨$) from mathematical logic – it behaves according to the truth table above. A HIGH output ($1$) results if one or both the inputs to the gate are HIGH. If neither input is high, a LOW output ($0$) results. In another sense, the function of OR effectively finds the maximum between two binary digits, just as the complementary AND function finds the minimum. It can also be denoted as symbol $∨$. \n"
   ]
  },
  {
   "cell_type": "code",
   "execution_count": 2,
   "metadata": {},
   "outputs": [],
   "source": [
    "# Received an OR function with parameters (x1, x2)\n",
    "\n",
    "def OR(x1,x2):\n",
    "    w1 = 0.5\n",
    "    w2 = 0.5\n",
    "    θ  = 0.25\n",
    "    t  = x1 * w1 + x2 * w2\n",
    "    if t <= θ:\n",
    "        return 0\n",
    "    elif t > θ:\n",
    "        return 1"
   ]
  },
  {
   "cell_type": "markdown",
   "metadata": {},
   "source": [
    "## NOT gate"
   ]
  },
  {
   "cell_type": "code",
   "execution_count": null,
   "metadata": {},
   "outputs": [],
   "source": [
    "def NOT(x):\n",
    "    w = 0.5\n",
    "    θ = 0.25\n",
    "    t = x * w\n",
    "    if t <= θ:\n",
    "        return 1\n",
    "    elif t > θ:\n",
    "        return 0"
   ]
  },
  {
   "cell_type": "markdown",
   "metadata": {},
   "source": [
    "## NAND gate"
   ]
  },
  {
   "cell_type": "code",
   "execution_count": null,
   "metadata": {},
   "outputs": [],
   "source": [
    "def NAND(x1,x2):\n",
    "    w1 = -0.5\n",
    "    w2 = -0.5\n",
    "    θ  = -0.75\n",
    "    t  = x1 * w1 + x2 * w2\n",
    "    if t <= θ:\n",
    "        return 0\n",
    "    elif t > θ:\n",
    "        return 1"
   ]
  },
  {
   "cell_type": "markdown",
   "metadata": {},
   "source": [
    "## XOR gate"
   ]
  },
  {
   "cell_type": "code",
   "execution_count": null,
   "metadata": {},
   "outputs": [],
   "source": [
    "def XOR(x1,x2):\n",
    "    α1 = NAND(x1,x2)\n",
    "    α2 = OR(x1,x2)\n",
    "    β  = AND(α1,α2)\n",
    "    return β"
   ]
  }
 ],
 "metadata": {
  "interpreter": {
   "hash": "f9f85f796d01129d0dd105a088854619f454435301f6ffec2fea96ecbd9be4ac"
  },
  "kernelspec": {
   "display_name": "Python 3.9.12 64-bit",
   "language": "python",
   "name": "python3"
  },
  "language_info": {
   "codemirror_mode": {
    "name": "ipython",
    "version": 3
   },
   "file_extension": ".py",
   "mimetype": "text/x-python",
   "name": "python",
   "nbconvert_exporter": "python",
   "pygments_lexer": "ipython3",
   "version": "3.10.4"
  },
  "orig_nbformat": 4
 },
 "nbformat": 4,
 "nbformat_minor": 2
}
