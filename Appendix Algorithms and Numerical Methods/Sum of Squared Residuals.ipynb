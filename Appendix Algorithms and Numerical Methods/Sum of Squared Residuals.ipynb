{
 "cells": [
  {
   "cell_type": "markdown",
   "metadata": {},
   "source": [
    "# Sum of squared residuals\n",
    "\n",
    "The performance of a model can be quantified in a single number. One measure we can use is the Sum of Squared Residuals, $\\mathrm{SSR}$. Here we take all of the residuals (the difference between the measured and predicted data), square them and add them together.\n",
    "\n",
    "For demonstrating a frequency vector $\\vec{f} = [f_1, f_2, f_3, ...]$, we can introduce the Normal (or Gaussian) distribution:\n",
    "\n",
    "$$ \\mathcal{N}(\\mu,\\sigma^2): g(x) = \\frac{1}{\\sqrt{2\\pi}\\sigma}\\exp\\left\\{{\\frac{-(x-\\mu)^2}{2\\sigma^2}}\\right\\}  $$\n",
    "\n",
    "Where $\\mu$ is the mathematical expectation (or mean value), and $\\sigma$ is the standard deviation:\n",
    "\n",
    "$$ \\sigma = \\sqrt{\\frac{1}{N}\\sum_{i=1}^N(f_i - \\mu)^2 } $$\n",
    "\n",
    "The standard deviation is a measure of the amount of variation or dispersion of a set of values. A low standard deviation indicates that the values tend to be close to the mean (also called the expected value) of the set, while a high standard deviation indicates that the values are spread out over a wider range.\n",
    "\n",
    "We put these two parameters in a vector:\n",
    "\n",
    "$$ \\vec{p} = [\\mu, \\sigma]$$\n",
    "\n",
    "Then, the sum of squared residuals $\\mathrm{SSR}$ can be written as:\n",
    "\n",
    "$$ \\mathrm{SSR}(\\vec{p}) = |\\vec{f} - \\vec{g}_p|^2 $$\n",
    "\n",
    "\n"
   ]
  },
  {
   "cell_type": "markdown",
   "metadata": {},
   "source": []
  }
 ],
 "metadata": {
  "language_info": {
   "name": "python"
  },
  "orig_nbformat": 4
 },
 "nbformat": 4,
 "nbformat_minor": 2
}
