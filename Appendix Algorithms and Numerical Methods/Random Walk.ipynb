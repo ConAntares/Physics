{
 "cells": [
  {
   "cell_type": "markdown",
   "metadata": {},
   "source": [
    "# Random Walk\n",
    "\n",
    "## Random walk in two dimensions"
   ]
  },
  {
   "cell_type": "code",
   "execution_count": 1,
   "metadata": {},
   "outputs": [
    {
     "name": "stdout",
     "output_type": "stream",
     "text": [
      "([0, -4, -8, -5, -3, -3, -1, 1, 1, 2, 5], [0, 0, -4, -7, -11, -8, -8, -7, -3, 1, 5])\n"
     ]
    }
   ],
   "source": [
    "# Random walk generator\n",
    "\n",
    "import numpy as np\n",
    "import random as rd\n",
    "\n",
    "def Walk_2D(steps):\n",
    "    x_values = [0]\n",
    "    y_values = [0]\n",
    "    while len(x_values) <= steps:\n",
    "        x_direction = rd.choice([-1, 0, 1]); x_distance = rd.choice([1, 2, 3, 4])\n",
    "        y_direction = rd.choice([-1, 0, 1]); y_distance = rd.choice([1, 2, 3, 4])\n",
    "        x_move = x_direction * x_distance\n",
    "        y_move = y_direction * y_distance\n",
    "        x_refresh = x_values[-1] + x_move\n",
    "        y_refresh = y_values[-1] + y_move\n",
    "        x_values.append(x_refresh)\n",
    "        y_values.append(y_refresh)\n",
    "    return x_values, y_values\n",
    "\n",
    "result = Walk_2D(10)\n",
    "print(result)\n"
   ]
  },
  {
   "cell_type": "markdown",
   "metadata": {},
   "source": [
    "## Random walk in three dimensions"
   ]
  }
 ],
 "metadata": {
  "interpreter": {
   "hash": "8a94588eda9d64d9e9a351ab8144e55b1fabf5113b54e67dd26a8c27df0381b3"
  },
  "kernelspec": {
   "display_name": "Python 3.10.4 64-bit",
   "language": "python",
   "name": "python3"
  },
  "language_info": {
   "codemirror_mode": {
    "name": "ipython",
    "version": 3
   },
   "file_extension": ".py",
   "mimetype": "text/x-python",
   "name": "python",
   "nbconvert_exporter": "python",
   "pygments_lexer": "ipython3",
   "version": "3.10.4"
  },
  "orig_nbformat": 4
 },
 "nbformat": 4,
 "nbformat_minor": 2
}
