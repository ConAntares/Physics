{
 "cells": [
  {
   "cell_type": "markdown",
   "metadata": {},
   "source": [
    "# Cubic Interpolation\n",
    "\n",
    "## Fundamental cubic interpolation\n",
    "\n",
    "If the values of a function $f(x)$ and its derivate are known at $x=0$ and $x=1$, then, the function can be interpolated on the interval $[0,1]$ using a third-degree polynomial.\n",
    "\n",
    "A third degree polynomial and its derivative:\n",
    "$$ f(x) = ax^3 + bx^2 + cx + d $$\n",
    "$$ f'(x) = 3ax^2 + 2bx + c $$\n",
    "\n",
    "The values of the polynomial and its derivative at $x=0$ and $x=1$:\n",
    "\n",
    "$$ f(0) = d $$\n",
    "$$ f(1) = a + b + c + d $$\n",
    "\n",
    "$$ f'(0) = c $$\n",
    "$$ f'(1) = 3a + 2b + c $$\n",
    "\n",
    "The four equations above can be rewritten to this:\n",
    "\n",
    "$$ a = 3f(0) - 2f(1) + f'(0) + f'(1) $$\n",
    "$$ b = -3f(0) + 3f(1) - 2f'(0) - f'(0) $$\n",
    "$$ c = f'(0) $$\n",
    "$$ d = f(0) $$\n",
    "\n",
    "And there, we have our cubic interpolation formula.\n",
    "\n",
    "Interpolation is often used to interpolate between a list of values. In that case we don't know the derivative of the function. We could simply use derivative $0$ at every point, but we obtain smoother curves when we use the slope of a line between the previous and the next point as the derivative at a point. In that case the resulting polynomial is called a Catmull-Rom spline. Suppose you have the values $p_0$, $p_1$, $p_2$ and $p_3$ at respectively $x=-1$, $x=0$, $x=1$, and $x=2$. Then we can assign the values of $f(0)$, $f(1)$, $f'(0)$ and $f'(1)$ using the formulas below to interpolate between $p_1$ and $p_2$:\n",
    "\n",
    "\n",
    "$$ f(0) = p_1 $$\n",
    "$$ f(1) = p_2 $$\n",
    "\n",
    "$$ f'(0) = \\frac{p_2-p_0}{2} $$\n",
    "$$ f'(1) = \\frac{p_3-p_1}{2} $$\n",
    "\n",
    "Combining the last four formulas and the preceding four, we get:\n",
    "\n",
    "$$ a = - \\frac{1}{2}p_0 + \\frac{3}{2}p_1 - \\frac{3}{2}p_2 + \\frac{1}{2}p_3 $$\n",
    "$$ b = p_0 - \\frac{5}{2}p_1 + 2p_2 - \\frac{1}{2}p_3 $$\n",
    "$$ c = -\\frac{1}{2}p_0 + \\frac{1}{2}p_2 $$\n",
    "$$ d = p_1 $$\n",
    "\n",
    "So our cubic interpolation formula becomes:\n",
    "\n",
    "$$ f(p_0,p_1,p_2,p_3,x) = (-\\frac{1}{2}p_0+\\frac{3}{2}p_1-\\frac{3}{2}p_2+\\frac{1}{2}p_3)x^3 + (p_0-\\frac{5}{2}p_1+2p_2-\\frac{1}{2}p_3)x^2 + (-\\frac{1}{2}p_0+\\frac{1}{2}p_2)x + p_1 $$"
   ]
  },
  {
   "cell_type": "code",
   "execution_count": 2,
   "metadata": {},
   "outputs": [
    {
     "data": {
      "image/png": "[encoded data removed]",
      "text/plain": [
       "<Figure size 640x480 with 1 Axes>"
      ]
     },
     "metadata": {},
     "output_type": "display_data"
    }
   ],
   "source": [
    "#### Cubic Interpolation\n",
    "\n",
    "import numpy as np\n",
    "import matplotlib.pyplot as plt\n",
    "from scipy.interpolate import interp1d\n",
    "\n",
    "x, y = np.loadtxt('Data/Cubic.dat', unpack=True)\n",
    "t = np.linspace(0.01, 67, 100)\n",
    "\n",
    "f = interp1d(x, y, kind='cubic')\n",
    "u = f(t)\n",
    "\n",
    "plt.rcParams['font.family'] = 'CMU Serif'\n",
    "plt.plot(t, u,      c=\"#00B4DC\", alpha=0.9)\n",
    "plt.plot(x, y, \"o\", c=\"#32B432\", alpha=0.9)\n",
    "plt.tick_params(direction='in')\n",
    "plt.show()"
   ]
  },
  {
   "cell_type": "code",
   "execution_count": null,
   "metadata": {},
   "outputs": [],
   "source": []
  }
 ],
 "metadata": {
  "kernelspec": {
   "display_name": "Python 3.10.8 64-bit",
   "language": "python",
   "name": "python3"
  },
  "language_info": {
   "codemirror_mode": {
    "name": "ipython",
    "version": 3
   },
   "file_extension": ".py",
   "mimetype": "text/x-python",
   "name": "python",
   "nbconvert_exporter": "python",
   "pygments_lexer": "ipython3",
   "version": "3.10.8"
  },
  "orig_nbformat": 4,
  "vscode": {
   "interpreter": {
    "hash": "e7370f93d1d0cde622a1f8e1c04877d8463912d04d973331ad4851f04de6915a"
   }
  }
 },
 "nbformat": 4,
 "nbformat_minor": 2
}
