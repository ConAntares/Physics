{
 "cells": [
  {
   "attachments": {},
   "cell_type": "markdown",
   "metadata": {},
   "source": [
    "# Approximation and Interpolation\n",
    "\n",
    "## Theory introduction\n",
    "\n",
    "### Taylor Approximation\n",
    "\n",
    "The Taylor approximation is an application of the Taylor series, a mathematical method used to approximate smooth and differentiable functions in the vicinity of a given point. Named after the English mathematician Brook Taylor, this concept was introduced in the early 18th century.\n",
    "\n",
    "The Taylor approximation expresses a function as an infinite sum of terms, where each term is a proportion of the function's derivatives at a certain point. The general formula for the Taylor series of a function $f(x)$ about the point $\\mathrm a$ is:\n",
    "\n",
    "$$\\begin{align*}\n",
    "f(x)&=f(a)+\\frac{f'(a)}{1!}(x-a)+\\frac{f''(a)}{2!}(x-a)^2+\\frac{f^{(3)}(a)}{3!}(x-a)^3+\\cdots+\\frac{f^{(n)}(a)}{n!}(x-a)^n+\\cdots \\\\\n",
    "&=\\sum_{i=0} \\frac{f^{(i)}(a)}{i!}(x-a)^i \\\\\n",
    "\\end{align*}$$\n",
    "\n",
    "The Taylor approximation uses a Taylor series to estimate a function near a specific point. By taking a finite number of terms from the Taylor series, a Taylor polynomial can be constructed that approximates the original function. The accuracy of this approximation depends on the number of terms used in the Taylor polynomial. The more terms included, the better the approximation, but the computational cost may increase.\n",
    "\n",
    "### Two-Dimensional Taylor Approximation\n",
    "\n",
    "The Taylor approximation is also applicable in two-dimensional or higher-dimensional situations. For a function of two variables, $f(x, y)$, the Taylor series at the point $(a, b)$ can be expressed as:\n",
    "\n",
    "$$\\begin{align*}\n",
    "f(x, y)&=f(a, b)+\\frac{\\partial f(a, b)}{\\partial x}(x-a)+\\frac{\\partial f(a, b)}{\\partial y}(y-b)+\\frac{1}{2!}\\left(\\frac{\\partial^2 f(a, b)}{\\partial x^2}(x-a)^2+2\\frac{\\partial^2 f(a, b)}{\\partial x \\partial y}(x-a)(y-b)+\\frac{\\partial^2 f(a, b)}{\\partial y^2}(y-b)^2\\right) + \\cdots\n",
    "\\end{align*}$$\n",
    "\n",
    "Here, $\\frac{\\partial f(a, b)}{\\partial x}$ and $\\frac{\\partial f(a, b)}{\\partial y}$ represent the partial derivatives of the function $f$ at the point $(a, b)$. \n",
    "\n",
    "Next, $\\frac{\\partial^2 f(a, b)}{\\partial x^2}$, $\\frac{\\partial^2 f(a, b)}{\\partial y^2}$, and $\\frac{\\partial^2 f(a, b)}{\\partial x \\partial y}$ represent the second-order partial derivatives of the function $f$ at the point $(a, b)$. \n",
    "\n",
    "Similar to the univariate case, a polynomial can be used to approximate the original function, but the computational complexity increases as more terms are included.\n"
   ]
  },
  {
   "attachments": {},
   "cell_type": "markdown",
   "metadata": {},
   "source": [
    "### Fourier approximation\n",
    "\n",
    "The Fourier approximation is a crucial mathematical framework widely used in various fields including physics, engineering, and data analysis. It fundamentally represents any periodic function as an infinite sum of basic sine and cosine functions, each with frequencies being integer multiples of a fundamental frequency.\n",
    "\n",
    "The standard expression for a Fourier series is:\n",
    "\n",
    "$$ f(x) = a_0 + \\sum_{n=1}^{\\infty} [a_n \\cos(nx) + b_n \\sin(nx)] $$\n",
    "\n",
    "where $a_n$ and $b_n$ are the Fourier coefficients, are calculated by the following integral formulas:\n",
    "\n",
    "$$\\begin{align*}\n",
    "a_n &= \\frac{2}{T}\\int_{0}^{T} f(x)\\cos(n\\frac{2\\pi x}{T}){\\rm d}x \\\\\n",
    "b_n &= \\frac{2}{T}\\int_{0}^{T} f(x)\\sin(n\\frac{2\\pi x}{T}){\\rm d}x\n",
    "\\end{align*}$$\n",
    "\n",
    "Given a function $f(x)$ that satisfies certain necessary conditions, we can derive its Fourier series representation by calculating the Fourier coefficients $a_n$ and $b_n$. The Fourier series thus obtained serves as an effective approximation of the original function.\n",
    "\n",
    "### Two-Dimensional Fourier Approximation\n",
    "\n",
    "The Fourier approximation can be extended to functions of two variables, f(x, y). In this case, the Fourier series is expressed as a double sum of sine and cosine functions:\n",
    "\n",
    "$$ f(x,y) = a_{00}+\\sum_{n=1}^{\\infty}\\sum_{m=1}^{\\infty}[a_{nm}\\cos(n\\pi x)\\cos(m\\pi y)+b_{nm} \\sin(n\\pi x)\\sin(m\\pi y)] $$\n",
    "\n",
    "Here, the Fourier coefficients $a_{nm}$ and $b_{nm}$ are calculated using a technique similar to the one-dimensional case, but involve double integrals over the function $f(x, y)$. The resulting two-dimensional Fourier series enables an effective approximation of the two-dimensional function.\n"
   ]
  },
  {
   "attachments": {},
   "cell_type": "markdown",
   "metadata": {},
   "source": [
    "### Lagrange Interpolation\n",
    "\n",
    "Lagrange interpolation is a common method of interpolation. The basic idea is to find a polynomial that equals the given values at a set of discrete points. The form of the Lagrange interpolation polynomial is:\n",
    "\n",
    "$$ L(x) = \\sum_{i=0}^n y_i l_i(x) $$\n",
    "\n",
    "where $l_i(x)$ is the Lagrange basis function:\n",
    "\n",
    "$$ L_i(x) = \\prod_{j=0, j\\neq i}^n \\frac{x-x_j}{x_i-x_j} $$\n",
    "\n"
   ]
  },
  {
   "attachments": {},
   "cell_type": "markdown",
   "metadata": {},
   "source": [
    "### Newton's Interpolation\n",
    "\n",
    "Newton's interpolation is another common method of interpolation. The basic idea is to find a polynomial that equals the given values at a set of discrete points. The form of the Newton interpolation polynomial is:\n",
    "\n",
    "$$ P(x) = f[x_0] + f[x_0, x_1](x-x_0) + f[x_0, x_1, x_2](x-x_0)(x-x_1) + \\ldots $$\n",
    "\n"
   ]
  },
  {
   "attachments": {},
   "cell_type": "markdown",
   "metadata": {},
   "source": [
    "### Cubic Interpolation\n",
    "\n",
    "If the values of a function $f(x)$ and its derivate are known at $x=0$ and $x=1$, then, the function can be interpolated on the interval $[0,1]$ using a third-degree polynomial.\n",
    "\n",
    "A third-degree polynomial and its derivative:\n",
    "\n",
    "$$\\begin{align*}\n",
    "f(x) &= ax^3 + bx^2 + cx + d\n",
    "f'(x) &= 3ax^2 + 2bx + c\n",
    "\\end{align*}$$\n",
    "\n",
    "The values of the polynomial and its derivative at $x=0$ and $x=1$:\n",
    "\n",
    "$$\\begin{align*}\n",
    "f(0) &= d\n",
    "f(1) &= a + b + c + d\n",
    "\\end{align*}$$\n",
    "\n",
    "$$\\begin{align*}\n",
    "f'(0) &= c\n",
    "f'(1) &= 3a + 2b + c\n",
    "\\end{align*}$$\n",
    "\n",
    "The four equations above can be rewritten to this:\n",
    "\n",
    "$$\\begin{align*}\n",
    "a &= 2f(0) - 2f(1) + f'(0) + f'(1)\n",
    "b &= -3f(0) + 3f(1) - 2f'(0) - f'(1)\n",
    "c &= f'(0)\n",
    "d &= f(0)\n",
    "\\end{align*}$$\n"
   ]
  },
  {
   "attachments": {},
   "cell_type": "markdown",
   "metadata": {},
   "source": [
    "## Demonstration"
   ]
  }
 ],
 "metadata": {
  "kernelspec": {
   "display_name": "Python 3",
   "language": "python",
   "name": "python3"
  },
  "language_info": {
   "codemirror_mode": {
    "name": "ipython",
    "version": 3
   },
   "file_extension": ".py",
   "mimetype": "text/x-python",
   "name": "python",
   "nbconvert_exporter": "python",
   "pygments_lexer": "ipython3",
   "version": "3.11.3"
  },
  "orig_nbformat": 4
 },
 "nbformat": 4,
 "nbformat_minor": 2
}
