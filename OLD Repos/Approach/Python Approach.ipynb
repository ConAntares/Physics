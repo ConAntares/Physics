{
 "cells": [
  {
   "cell_type": "markdown",
   "source": [
    "# Python Approach\n",
    "\n",
    "This document demonstrates a basic introduction including NumPy, TensorFlow, and CuPy.\n"
   ],
   "metadata": {}
  },
  {
   "cell_type": "code",
   "execution_count": null,
   "source": [
    "# Import packages\n",
    "\n",
    "import numpy as np\n",
    "import cupy as cp\n",
    "import tensorflow as tf"
   ],
   "outputs": [],
   "metadata": {}
  }
 ],
 "metadata": {
  "orig_nbformat": 4,
  "language_info": {
   "name": "python",
   "version": "3.9.6"
  },
  "kernelspec": {
   "name": "python3",
   "display_name": "Python 3.9.6 64-bit"
  },
  "interpreter": {
   "hash": "916dbcbb3f70747c44a77c7bcd40155683ae19c65e1c03b4aa3499c5328201f1"
  }
 },
 "nbformat": 4,
 "nbformat_minor": 2
}