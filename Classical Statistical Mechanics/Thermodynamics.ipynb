{
 "nbformat": 4,
 "nbformat_minor": 2,
 "metadata": {
  "language_info": {
   "name": "python",
   "codemirror_mode": {
    "name": "ipython",
    "version": 3
   }
  },
  "orig_nbformat": 2,
  "file_extension": ".py",
  "mimetype": "text/x-python",
  "name": "python",
  "npconvert_exporter": "python",
  "pygments_lexer": "ipython3",
  "version": 3
 },
 "cells": [
  {
   "cell_type": "code",
   "execution_count": null,
   "metadata": {},
   "outputs": [],
   "source": [
    "# Kinetic Theory of Gases\n",
    "\n",
    "import numpy as np\n",
    "T = np.arange(0,1000,1)\n",
    "k = 1.380649e-23\n",
    "m = np.matrix([2,28,32])*1.67e-27\n",
    "v = np.sqrt(3*k*T/m.T)\n",
    "\n",
    "import matplotlib; import matplotlib.pyplot as plt\n",
    "matplotlib.rcParams[\"mathtext.fontset\"] = \"cm\"\n",
    "plt.rc(\"font\", family=\"Serif\")\n",
    "plt.ticklabel_format(style=\"sci\", scilimits=(0,0))\n",
    "plt.title(\"Kinetic Theory of Gases\")\n",
    "plt.xlabel(r\"Temperature ($\\mathit{K}$)\"); plt.ylabel(r\"Velocity ($ms^{-1}$)\")\n",
    "plt.plot(T,np.array(v[0,:].T),label=\"Hydrogen\")\n",
    "plt.plot(T,np.array(v[1,:].T),label=\"Nitrogen\")\n",
    "plt.plot(T,np.array(v[2,:].T),label=\"Oxygen\")\n",
    "plt.legend(loc=\"best\")"
   ]
  }
 ]
}