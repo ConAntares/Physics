{
 "cells": [
  {
   "cell_type": "markdown",
   "metadata": {},
   "source": [
    "# Einstein's Calculation\n",
    "\n",
    "## One dimension\n",
    "\n",
    "In one dimension, the eigenstates of single harmonic oscillator are:\n",
    "$$ E_n=\\hbar\\omega(n+1/2) $$\n",
    "\n",
    "$\\omega$ is the frequency of the harmonic oscillator(the \"Einstein frequency\").\n",
    "\n",
    "The partition function is then:\n",
    "$$ Z_{1D}=\\sum_{n≥0}e^{-β\\hbar\\omega(n+1/2)}=\\frac{e^{-β\\hbar\\omega/2}}{1-e^{-β\\hbar\\omega}}=\\frac{1}{2\\sinh(β\\hbar\\omega/2)} $$\n",
    "\n",
    "The expectation of energy is then:\n",
    "$$ ⟨E⟩=-\\frac{1}{Z_{1D}}\\frac{∂Z_{1D}}{∂β}=\\frac{\\hbar\\omega}{2}\\coth\\left(\\frac{β\\hbar\\omega}{2}\\right)=\\hbar\\omega\\left(n_B(β\\hbar\\omega)+\\frac{1}{2}\\right) $$\n",
    "\n",
    "where $n_B$ is the Bose occupation factor:\n",
    "$$ n_B(x)=\\frac{1}{e^x-1} $$\n",
    "\n",
    "This result is easy to interpret. The mode $\\omega$ is an excitation that is excited on average up to the $n_B^{th}$ level, or equivalently there is a \"boson\" orbital which is \"occupied\" by $n_B$ bosons.\n",
    "\n",
    "Differetiating the expression for energy we obtain the heat capacity for a single oscillator:\n",
    "$$ C=\\frac{∂⟨E⟩}{∂T}=k_B(\\beta\\hbar\\omega)^2\\frac{e^{\\beta\\hbar\\omega}}{(e^{\\beta\\hbar\\omega}-1)^2} $$\n",
    "\n",
    "Note that the high-temperature limit of this expression gives $C=k_B$ (check this if it is not obvious).\n",
    "\n",
    "## Three dimensions\n",
    "\n",
    "Generalizing to the three-dimensional case:\n",
    "$$ E_{n_x,n_y,n_z} = \\hbar\\omega[(n_x+1/2)+(n_y+1/2)+(n_z+1/2) $$\n",
    "\n",
    "and:\n",
    "$$ Z_{3D} = \\sum_{n_x,n_y,n_z≥0}e^{-βE_{n_x,n_y,n_z}} = [Z_{1D}]^3 $$\n",
    "\n",
    "resulting in $⟨E_{3D}⟩=3⟨E_{1D}⟩$, so correspondingly we obtain:\n",
    "$$ C = 3k_B(β\\hbar\\omega)^2\\frac{e^{β\\hbar\\omega}}{(e^{β\\hbar\\omega}-1)^2} $$\n",
    "$$ \\frac{C}{3k_B} = (β\\hbar\\omega)^2\\frac{e^{β\\hbar\\omega}}{(e^{β\\hbar\\omega}-1)^2} $$\n"
   ]
  },
  {
   "cell_type": "code",
   "execution_count": 21,
   "metadata": {},
   "outputs": [
    {
     "data": {
      "text/plain": [
       "[<matplotlib.lines.Line2D at 0x7f5ec65c9f60>]"
      ]
     },
     "execution_count": 21,
     "metadata": {},
     "output_type": "execute_result"
    },
    {
     "data": {
      "image/png": "[encoded data removed]",
      "text/plain": [
       "<Figure size 432x288 with 1 Axes>"
      ]
     },
     "metadata": {
      "needs_background": "light"
     },
     "output_type": "display_data"
    }
   ],
   "source": [
    "# Einstein heat capacity per atom in three dimenson\n",
    "\n",
    "import numpy as np\n",
    "Interval = 0.01\n",
    "reT = np.arange(Interval,2+Interval,Interval)\n",
    "reV = np.power(reT,-1)\n",
    "reC = reV**2*np.exp(reV)/np.square(np.exp(reV)-1)\n",
    "\n",
    "import matplotlib; import matplotlib.pyplot as plt\n",
    "params = {\"text.usetex\":True, \"font.family\":\"serif\", \"mathtext.fontset\":\"cm\", \"axes.titlesize\": 16, \"axes.labelsize\":14}\n",
    "matplotlib.rcParams.update(params)\n",
    "plt.ticklabel_format(style=\"sci\", scilimits=(0,0)); plt.tick_params(direction=\"in\",top=True,right=True,bottom=True,left=True)\n",
    "plt.title(\"Einstein heat capacity per atom in three dimenson\"); plt.xlabel(r\"$k_BT/\\hbar\\omega$\"); plt.ylabel(r\"$\\frac{C}{3k_B}$\",rotation=0)\n",
    "plt.plot(reT,reC)"
   ]
  },
  {
   "cell_type": "markdown",
   "metadata": {},
   "source": []
  }
 ],
 "metadata": {
  "interpreter": {
   "hash": "31f2aee4e71d21fbe5cf8b01ff0e069b9275f58929596ceb00d14d90e3e16cd6"
  },
  "kernelspec": {
   "display_name": "Python 3.6.13 64-bit",
   "name": "python3"
  },
  "language_info": {
   "codemirror_mode": {
    "name": "ipython",
    "version": 3
   },
   "file_extension": ".py",
   "mimetype": "text/x-python",
   "name": "python",
   "nbconvert_exporter": "python",
   "pygments_lexer": "ipython3",
   "version": "3.6.13"
  },
  "orig_nbformat": 4
 },
 "nbformat": 4,
 "nbformat_minor": 2
}