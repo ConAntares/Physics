{
 "cells": [
  {
   "cell_type": "markdown",
   "metadata": {},
   "source": [
    "# Einstein's Calculation\n",
    "\n",
    "In one dimension, the eigenstates of single harmonic oscillator are:\n",
    "$$ E_n=\\hbar\\omega(n+1/2) $$\n",
    "\n",
    "$\\omega$ is the frequency of the harmonic oscillator(the \"Einstein frequency\").\n",
    "\n",
    "The partition function is then:\n",
    "$$ Z_{1D} = \\sum_{n≥0}e^{-β\\hbar\\omega(n+1/2)}=\\frac{e^{-β\\hbar\\omega/2}}{1-e^{-β\\hbar\\omega}}=\\frac{1}{2\\sinh(\\beta\\hbar\\omega/2)} $$\n",
    "\n",
    "The expectation of energy is then:\n",
    "$$ ⟨E⟩=-\\frac{1}{Z_{1D}}\\frac{∂Z_{1D}}{∂\\beta}=\\frac{\\hbar\\omega}{2}\\coth() $$\n"
   ]
  },
  {
   "cell_type": "code",
   "execution_count": null,
   "metadata": {},
   "outputs": [],
   "source": []
  },
  {
   "cell_type": "markdown",
   "metadata": {},
   "source": []
  }
 ],
 "metadata": {
  "interpreter": {
   "hash": "31f2aee4e71d21fbe5cf8b01ff0e069b9275f58929596ceb00d14d90e3e16cd6"
  },
  "kernelspec": {
   "display_name": "Python 3.6.13 64-bit",
   "name": "python3"
  },
  "language_info": {
   "name": "python",
   "version": ""
  },
  "orig_nbformat": 4
 },
 "nbformat": 4,
 "nbformat_minor": 2
}