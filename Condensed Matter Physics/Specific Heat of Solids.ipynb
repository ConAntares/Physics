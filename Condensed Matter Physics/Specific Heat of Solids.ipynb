{
 "metadata": {
  "language_info": {
   "codemirror_mode": {
    "name": "ipython",
    "version": 3
   },
   "file_extension": ".py",
   "mimetype": "text/x-python",
   "name": "python",
   "nbconvert_exporter": "python",
   "pygments_lexer": "ipython3",
   "version": 3
  },
  "orig_nbformat": 2
 },
 "nbformat": 4,
 "nbformat_minor": 2,
 "cells": [
  {
   "source": [
    "# Specific Heat of Solids"
   ],
   "cell_type": "markdown",
   "metadata": {}
  },
  {
   "source": [
    "## The law of Dulong-Petit\n",
    "\n",
    "Text\n",
    "For idea gas: $C=3R$,  \n",
    "For every atom: $C=3k_{\\rm B}$,  \n",
    "Where $R$ is the idea gas constant, $k_{\\rm B}$ is Boltzmann constant."
   ],
   "cell_type": "markdown",
   "metadata": {}
  },
  {
   "source": [
    "## Einstein's Calculation"
   ],
   "cell_type": "markdown",
   "metadata": {}
  }
 ]
}