{
 "cells": [
  {
   "cell_type": "markdown",
   "metadata": {},
   "source": [
    "# Liouville Equation\n",
    "\n",
    "## Classical Liouville Equation\n",
    "\n",
    "The Liouville equation describes the time evolution of the Phase space distribution functions. Although the equation is usually referred to as the \"Liouville Equation\", Josiah Willard Gibbs was the first to recognize the importance of this equation as the fundamental equation of statistical mechanics. It is referred to as Liouville Equation because its derivation for non-canonical system utilises an identity first derived by Joseph Liouville in 1838.\n",
    "\n",
    "Consider a Hamiltonian dynamical system with canonical coordinates $q_i$ and conjugate momenta $p_i$, where $i = 1,2,..,n$. Then the phase space distribution $\\rho(p,q)$ determines the probability $\\rho(p,q)\\mathrm{d}^mq\\mathrm{d}^np$ that the system will be found in the infinitesimal phase space volume $\\mathrm{d}^mq\\mathrm{d}^np$. The Liouville Equation governs the evolution of $\\rho(p,q;t)$ in time $t$:\n",
    "\n",
    "$$ \\frac{\\mathrm{d}\\rho(p,q;t)}{\\mathrm{d}t} = \\frac{\\partial\\rho}{\\partial t} + \\sum\\limits_{i=1}^n\\left(\\frac{\\partial\\rho}{\\partial q_i}\\dot q_i + \\frac{\\partial\\rho}{\\partial p_i}\\dot p_i\\right) = 0 $$\n",
    "\n",
    "Time derivatives are denoted by dots, and are "
   ]
  },
  {
   "cell_type": "markdown",
   "metadata": {},
   "source": []
  }
 ],
 "metadata": {
  "language_info": {
   "name": "python"
  },
  "orig_nbformat": 4
 },
 "nbformat": 4,
 "nbformat_minor": 2
}
