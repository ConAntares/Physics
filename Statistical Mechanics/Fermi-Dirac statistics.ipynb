{
 "cells": [
  {
   "cell_type": "markdown",
   "source": [
    "# Fermi-Dirac statistics\n",
    "\n",
    "In quantum statistics, a branch of physics, Fermi–Dirac statistics describe a distribution of particles over energy states in systems consisting of many identical particles that obey the Pauli exclusion principle. It is named after Enrico Fermi and Paul Dirac, each of whom discovered the method independently (although Fermi defined the statistics earlier than Dirac).\n",
    "\n",
    "Fermi–Dirac (F–D) statistics apply to identical particles with half-integer spin in a system with thermodynamic equilibrium. Additionally, the particles in this system are assumed to have negligible mutual interaction. That allows the multi-particle system to be described in terms of single-particle energy states. The result is the F–D distribution of particles over these states which includes the condition that no two particles can occupy the same state; this has a considerable effect on the properties of the system. Since F–D statistics apply to particles with half-integer spin, these particles have come to be called fermions. It is most commonly applied to electrons, a type of fermion with spin 1/2. Fermi–Dirac statistics are a part of the more general field of statistical mechanics and use the principles of quantum mechanics.\n",
    "\n",
    "The counterpart to F–D statistics is the Bose–Einstein statistics, that apply to bosons (full integer spin, such as photons, or no spin, like the Higgs boson), particles that do not follow the Pauli exclusion principle, meaning that more than one boson can take up the same quantum configuration simultaneously. \n",
    "\n",
    "For a system of identical fermions in thermodynamic equilibrium, the average number of fermions in a single-particle state i is given by a logistic function, or sigmoid function: the Fermi–Dirac (F–D) distribution, which is a special case of the complete Fermi–Dirac integral,\n",
    "\n",
    "$$ \\displaystyle{\\bar{n}}_{i} = \\frac{1}{e^{(E_i-\\mu)/k_BT}+1} $$\n",
    "\n",
    "where $k_B$ is Boltzmann's constant, $T$ is the absolute temperature, $E_i$ is the energy of the single-particle state $i$, and $\\mu$ is the total chemical potential.\n"
   ],
   "metadata": {}
  }
 ],
 "metadata": {
  "orig_nbformat": 4,
  "language_info": {
   "name": "python"
  }
 },
 "nbformat": 4,
 "nbformat_minor": 2
}