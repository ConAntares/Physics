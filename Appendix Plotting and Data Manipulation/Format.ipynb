{
 "cells": [
  {
   "cell_type": "markdown",
   "metadata": {},
   "source": [
    "# Format in Python\n",
    "\n",
    "## Strings printing"
   ]
  },
  {
   "cell_type": "code",
   "execution_count": 19,
   "metadata": {},
   "outputs": [
    {
     "name": "stdout",
     "output_type": "stream",
     "text": [
      "A, B. C\n",
      "D, E. F\n",
      "3.1416 GB\n"
     ]
    }
   ],
   "source": [
    "str = \"{a}, {b}. {c}\".format(a=\"A\", b=\"B\", c=\"C\")\n",
    "print(str)  \n",
    "\n",
    "str = \"{0}, {1}. {2}\".format(\"D\", \"E\", \"F\")\n",
    "print(str)\n",
    "\n",
    "str = \"{0:.4f}{1}\".format(3.14159,\" GB\")\n",
    "print(str)"
   ]
  },
  {
   "cell_type": "markdown",
   "metadata": {},
   "source": [
    "## String Format Operator\n",
    "\n",
    "* `%c`: Format string and ASCII number\n",
    "* `%s`: Format string\n",
    "* `%d`: Format integer\n",
    "* `%o`: Format unsigned octal number\n",
    "* `%x`: Format unsigned hexadecimal number\n",
    "* `%X`: Format unsigned hexadecimal number in capital form\n",
    "* `%f`: Format float\n",
    "* `%e`: Format float with scientific notation single e\n",
    "* `%E`: Format float with scientific notation single E\n",
    "* `%g`: Format float into %f or %e depend the value of number\n",
    "* `%G`: Format float into %f or %e depend the value of number "
   ]
  },
  {
   "cell_type": "code",
   "execution_count": 20,
   "metadata": {},
   "outputs": [
    {
     "name": "stdout",
     "output_type": "stream",
     "text": [
      "a\n",
      "a b c d\n",
      "Hello World\n",
      "4 + 5 = 9\n",
      "11\n",
      "c\n",
      "C\n",
      "1.234560\n",
      "1.234560e+00\n",
      "1.234560E+00\n",
      "1.23456\n",
      "1.23456\n"
     ]
    }
   ],
   "source": [
    "print(\"%c\" % 97)                        # a\n",
    "print(\"%c %c %c %c\" % (97,98,99,100))   # a b c d\n",
    "print(\"%s\" % \"Hello World\")             # Hello World\n",
    "print(\"%d + %d = %d\" % (4,5,4+5))       # 4 + 5 = 9\n",
    "print(\"%o\" % 9)                         # 11\n",
    "print(\"%x\" % 12)                        # c\n",
    "print(\"%X\" % 12)                        # C\n",
    "print(\"%f\" % 1.23456)                   # 1.234560\n",
    "print(\"%e\" % 1.23456)                   # 1.234560e+00\n",
    "print(\"%E\" % 1.23456)                   # 1.234560E+00\n",
    "print(\"%g\" % 1.23456)                   # 1.23456\n",
    "print(\"%G\" % 1.23456)                   # 1.23456"
   ]
  },
  {
   "cell_type": "markdown",
   "metadata": {},
   "source": [
    "## Auxiliary Command for String Format\n",
    "\n",
    "* `m.n`: m: Minimum width, n: Digits\n",
    "* `-`: Left justifying\n",
    "* `+`: Display the sign of positive number\n",
    "* `0`: Fill with 0\n",
    "* `#o`: Display the sign of Octal(0o) \n",
    "* `#x`: and Hexadecimal with 0x\n",
    "* `#X`: and Hexadecimal with 0X"
   ]
  },
  {
   "cell_type": "code",
   "execution_count": 21,
   "metadata": {},
   "outputs": [
    {
     "name": "stdout",
     "output_type": "stream",
     "text": [
      "1.2345678901234567\n",
      " 1.23456789012346\n",
      "   1.234567890123\n",
      "      +1.23456789\n",
      "123456\n",
      "0000123456\n",
      "0o361100\n",
      "0x1e240\n",
      "0X1E240\n",
      "123456\n"
     ]
    }
   ],
   "source": [
    "print(\"%17.16f\" % 1.234567890123456789) # 1.2345678901234567\n",
    "print(\"%17.14f\" % 1.234567890123456789) # 1.23456789012346\n",
    "print(\"%17.12f\" % 1.234567890123456789) # 1.234567890123\n",
    "print(\"%+17.8f\" % 1.234567890123456789) # +1.23456789\n",
    "print(\"%0d\"     % 123456)               # 123456\n",
    "print(\"%010d\"   % 123456)               # 0000123456\n",
    "print(\"%#o\"     % 123456)               # 0o361100\n",
    "print(\"%#x\"     % 123456)               # 0x1e240\n",
    "print(\"%#X\"     % 123456)               # 0X1E240\n",
    "print(\"%#d\"     % 0x1e240)              # 123456"
   ]
  },
  {
   "cell_type": "markdown",
   "metadata": {},
   "source": [
    "## Escape Character\n",
    "\n",
    "* `\\\"`: \"\n",
    "* `\\\"`: \"\n",
    "* `\\\\`: \\\n",
    "* `\\a`: Make a sound\n",
    "* `\\b`: Backspace character\n",
    "* `\\n`: Newline character\n",
    "* `\\t`: Horizontal tab character (Table)\n",
    "* `\\v`: Vertical tab character\n",
    "* `\\r`: Enter character\n",
    "* `\\f`: New page character\n",
    "* `\\o`: Octal character\n",
    "* `\\x`: Hexadecimal character\n",
    "* `\\0`: Empty character"
   ]
  }
 ],
 "metadata": {
  "interpreter": {
   "hash": "97cc609b13305c559618ec78a438abc56230b9381f827f22d070313b9a1f3777"
  },
  "kernelspec": {
   "display_name": "Python 3.10.4 64-bit",
   "language": "python",
   "name": "python3"
  },
  "language_info": {
   "codemirror_mode": {
    "name": "ipython",
    "version": 3
   },
   "file_extension": ".py",
   "mimetype": "text/x-python",
   "name": "python",
   "nbconvert_exporter": "python",
   "pygments_lexer": "ipython3",
   "version": "3.10.4"
  },
  "orig_nbformat": 4
 },
 "nbformat": 4,
 "nbformat_minor": 2
}
