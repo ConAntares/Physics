{
 "cells": [
  {
   "attachments": {},
   "cell_type": "markdown",
   "metadata": {},
   "source": [
    "# Special Functions\n",
    "\n",
    "## Activation Function\n",
    "\n",
    "### Sigmoid function\n",
    "\n",
    "$$ h(x)=\\frac{1}{1+\\exp(-x)} $$"
   ]
  },
  {
   "cell_type": "markdown",
   "metadata": {},
   "source": []
  }
 ],
 "metadata": {
  "language_info": {
   "name": "python"
  },
  "orig_nbformat": 4
 },
 "nbformat": 4,
 "nbformat_minor": 2
}
