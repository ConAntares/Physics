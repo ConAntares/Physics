{
 "cells": [
  {
   "attachments": {},
   "cell_type": "markdown",
   "metadata": {},
   "source": [
    "# Introduction to Vectors\n",
    "\n",
    "## Definition\n",
    "\n",
    "Representing an n-dimensional vector requests to offer an n-dimensional vector space $\\mathbb{V}^n$. The vector is written as an n-tuple of numbers. For n-dimensional real vector space $\\mathbb{R}^n = \\{(r_1, r_2, ... , r_n): r_1, r_2, ... , r_n \\in \\mathbb{R}^n \\}$, the vector can be represented as $\\vec{r} = (r_1, r_2, ... , r_n) $\n",
    "\n",
    "For example, the vector $\\vec{r} = (x, y, z)$ is a 3-dimensional vector in $\\mathbb{R}^3$. The zero vector is in $\\mathbb{R}^n$ with all elements zero.\n",
    "\n",
    "Vectors can be divided into row vectors and column vectors. The transpose of a column vector is a row vector with the same length and elements order, and vice versa. The transpose of vector $v$ is represented as $v^T$, the conjugate of this vector is represented as $v^*$, and the Hermitian transpose (conjugate transpose) is represented as $v^\\dag$. With Dirac notation, we can represent a row vector as a Bra: $|r⟩$, and a column vector as a Ket: $⟨c|$.\n",
    "\n",
    "The vector $|v⟩$ and $⟨v|$ are transposed conjugate to each other:\n",
    "\n",
    "$$  \\left\\{\\begin{array}{rcl}\n",
    "    a|v⟩ =  a^*⟨v|^\\dag \\\\\n",
    "    a⟨v| =  a^*|v⟩^\\dag\n",
    "\\end{array}\\right. $$\n",
    "\n",
    "In Python, with the package `NumPy`, we can use the function `numpy.array` to represent a vector.\n",
    "\n",
    "We will respectively demonstrate a row vector $⟨r|$ and a column vector $|c⟩$ as follows.\n"
   ]
  },
  {
   "cell_type": "code",
   "execution_count": 28,
   "metadata": {},
   "outputs": [
    {
     "data": {
      "text/plain": [
       "array([1.2, 2.3, 3.1])"
      ]
     },
     "execution_count": 28,
     "metadata": {},
     "output_type": "execute_result"
    }
   ],
   "source": [
    "import numpy as np\n",
    "\n",
    "v = np.array([1.2,2.3,3.1]); v"
   ]
  },
  {
   "cell_type": "code",
   "execution_count": 29,
   "metadata": {},
   "outputs": [
    {
     "data": {
      "text/plain": [
       "array([[1.1],\n",
       "       [2.2],\n",
       "       [3.3]])"
      ]
     },
     "execution_count": 29,
     "metadata": {},
     "output_type": "execute_result"
    }
   ],
   "source": [
    "u = np.array([[1.1],[2.2],[3.3]]); u"
   ]
  },
  {
   "attachments": {},
   "cell_type": "markdown",
   "metadata": {},
   "source": [
    "### Indexing\n",
    "\n",
    "A specific element of vector $x[i]$ can be extracted with the expression `x[i]`, it should be noticed that the index $i$ starts from $0$."
   ]
  },
  {
   "cell_type": "code",
   "execution_count": 30,
   "metadata": {},
   "outputs": [
    {
     "data": {
      "text/plain": [
       "2.3"
      ]
     },
     "execution_count": 30,
     "metadata": {},
     "output_type": "execute_result"
    }
   ],
   "source": [
    "v[1]"
   ]
  },
  {
   "attachments": {},
   "cell_type": "markdown",
   "metadata": {},
   "source": [
    "The element can be revised if it is on the left-hand side of an assignment statement."
   ]
  },
  {
   "cell_type": "code",
   "execution_count": 31,
   "metadata": {},
   "outputs": [
    {
     "data": {
      "text/plain": [
       "2.21"
      ]
     },
     "execution_count": 31,
     "metadata": {},
     "output_type": "execute_result"
    }
   ],
   "source": [
    "v[1] = 2.21\n",
    "v[1]"
   ]
  },
  {
   "attachments": {},
   "cell_type": "markdown",
   "metadata": {},
   "source": [
    "### Norm\n",
    "\n",
    "The norm of a vector is a function from a real or complex vector space to the non-negative real numbers. The most common concept of a norm is the Euclidean norm. The Euclidean norm of a vector is the measure of its length, it is also called $L^2$ norm, $\\ell^2$ norm, or square norm, it can be denoted by $\\|v\\|_2$, this length is called Euclidean length, $L^2$ length, or $\\ell^2$ length which refers to the Physical length:\n",
    "\n",
    "$$ \\|v\\|_2 = \\sqrt{\\sum_i v_i^2} $$\n",
    "\n",
    "The package `NumPy` provides the function `numpy.linalg.norm` to compute the Euclidean and Manhattan norm:"
   ]
  },
  {
   "cell_type": "code",
   "execution_count": 32,
   "metadata": {},
   "outputs": [
    {
     "data": {
      "text/plain": [
       "5.856620185738529"
      ]
     },
     "execution_count": 32,
     "metadata": {},
     "output_type": "execute_result"
    }
   ],
   "source": [
    "v = np.array([[1.4, 2.3, 3.2, 4.1]]);\n",
    "\n",
    "np.linalg.norm(v, 2)"
   ]
  },
  {
   "attachments": {},
   "cell_type": "markdown",
   "metadata": {},
   "source": [
    "The default value of this function refers to the Euclidean norm:"
   ]
  },
  {
   "cell_type": "code",
   "execution_count": 33,
   "metadata": {},
   "outputs": [
    {
     "data": {
      "text/plain": [
       "5.856620185738529"
      ]
     },
     "execution_count": 33,
     "metadata": {},
     "output_type": "execute_result"
    }
   ],
   "source": [
    "np.linalg.norm(v)"
   ]
  },
  {
   "attachments": {},
   "cell_type": "markdown",
   "metadata": {},
   "source": [
    "For a complex number $z = x + iy $, its Euclidean norm equals its absolute value: the sqrt of the dot product with itself:\n",
    "\n",
    "$$ \\|z\\|= |z| = \\sqrt{x^2 + y^2} = \\sqrt{z \\cdot z^*} $$"
   ]
  },
  {
   "attachments": {},
   "cell_type": "markdown",
   "metadata": {},
   "source": [
    "In addition, for a vector $v$, the Manhattan norm (or Taxicab norm) is written as $\\|v\\|_1$ and measures the sum of the absolute differences of the Cartesian coordinates of its elements: the Manhattan distance Manhattan norm can be called $L^1$ norm or $\\ell^1$ norm, the Manhattan distance can be also called $L^1$ distance or $\\ell^1$ distance.\n",
    "\n",
    "For a vector $v$, the Manhattan norm is demonstrated as:\n",
    "\n",
    "$$ \\|\\vec{v}\\|_1 = \\sum_i v_i $$\n",
    "\n",
    "For a 2-dimensional vector $\\vec{d}(x,y)$, its Manhattan norm is computed as:\n",
    "\n",
    "$$ \\|\\vec{d}(x,y)\\|_1 = |x|+|y| $$\n",
    "\n",
    "The following code will compute the Manhattan norm of a vector:"
   ]
  },
  {
   "cell_type": "code",
   "execution_count": 34,
   "metadata": {},
   "outputs": [
    {
     "data": {
      "text/plain": [
       "4.1"
      ]
     },
     "execution_count": 34,
     "metadata": {},
     "output_type": "execute_result"
    }
   ],
   "source": [
    "np.linalg.norm(v, 1)"
   ]
  },
  {
   "attachments": {},
   "cell_type": "markdown",
   "metadata": {},
   "source": [
    "The absolute-value norm works on one-dimensional vector spaces formed by real or complex numbers. For a complex number, its absolute-value norm equals its Euclidean norm."
   ]
  },
  {
   "attachments": {},
   "cell_type": "markdown",
   "metadata": {},
   "source": [
    "### Vector multiplication\n",
    "\n",
    "The vector multiplication is the product of a vector and a scalar: \n",
    "\n",
    "$$ a|v⟩ = (av_1, av_2, ..., av_n) $$\n",
    "\n",
    "It obeys the linear property:\n",
    "\n",
    "Commutative law:\n",
    "\n",
    "$$ a|v⟩ = |v⟩a $$\n",
    "\n",
    "Associative law:\n",
    "\n",
    "$$ (a\\cdot b)|v⟩ = a(b|v⟩) $$\n",
    "\n",
    "Distributive law:\n",
    "\n",
    "$$ (a + b)|v⟩ = a|v⟩ + b|v⟩ $$\n"
   ]
  },
  {
   "attachments": {},
   "cell_type": "markdown",
   "metadata": {},
   "source": [
    "### Dot product\n",
    "\n",
    "Both dot product and cross product requires the acting vectors to have the same length. For the vectors: $\\vec u$ and $\\vec v$, the dot product of them is the sum of the product of the respective elements in each vector. It is denoted by $\\vec u \\cdot \\vec v$, or $⟨u|v⟩$ in Dirac notation:\n",
    "\n",
    "$$ \\vec u \\cdot \\vec v = ⟨u|v⟩ =  \\sum_{i} u_i v_i $$\n",
    "\n",
    "We introduce the angle between two vectors: $\\theta$, the dot product can be demonstrated as:\n",
    "\n",
    "$$ \\vec u \\cdot \\vec v = \\|u\\|_2\\|v\\|_2\\cos{\\theta} $$\n",
    "\n",
    "The following code finds the angle between two vectors:"
   ]
  },
  {
   "cell_type": "code",
   "execution_count": 35,
   "metadata": {},
   "outputs": [
    {
     "data": {
      "text/plain": [
       "array([[0.63797193]])"
      ]
     },
     "execution_count": 35,
     "metadata": {},
     "output_type": "execute_result"
    }
   ],
   "source": [
    "u = np.array([[3.21, 1.32 , 2.13]])\n",
    "\n",
    "v = np.array([[1.11],[2.22],[3.33]])\n",
    "\n",
    "np.arccos(np.dot(u,v)/(np.linalg.norm(u)*np.linalg.norm(v)))"
   ]
  },
  {
   "attachments": {},
   "cell_type": "markdown",
   "metadata": {},
   "source": [
    "### Cross product\n",
    "\n",
    "For the vectors: $\\vec u$ and $\\vec v$, their cross product (or vector product) is another perpendicular vector (orthogonal) to both $\\vec u$ and $\\vec v$ with a direction given by the right-hand rule and a magnitude equal to the area of the parallelogram that the vectors span. It is represented as $\\vec u \\times \\vec v$, $\\vec u ∧ \\vec v$, or $|u⟩⟨v|$ in Dirac notation:\n",
    "\n",
    "$$ \\vec u ∧ \\vec v = |u⟩⟨v| = \\|u\\|_2\\|v\\|_2\\sin{\\theta}\\vec n$$\n",
    "\n",
    "In 3-dimensions, the cross product can be demonstrated by determinant:\n",
    "\n",
    "$$  \\vec u ∧ \\vec v =\\left|\\begin{array}{}\n",
    "    \\hat{x} & \\hat{y} & \\hat{z}\\\\\n",
    "    u_x & u_y & u_z  \\\\\n",
    "    v_x & v_y & v_z \\\\\n",
    "\\end{array}\\right|. $$\n"
   ]
  }
 ],
 "metadata": {
  "kernelspec": {
   "display_name": "Python 3",
   "language": "python",
   "name": "python3"
  },
  "language_info": {
   "codemirror_mode": {
    "name": "ipython",
    "version": 3
   },
   "file_extension": ".py",
   "mimetype": "text/x-python",
   "name": "python",
   "nbconvert_exporter": "python",
   "pygments_lexer": "ipython3",
   "version": "3.10.10"
  },
  "orig_nbformat": 4,
  "vscode": {
   "interpreter": {
    "hash": "e7370f93d1d0cde622a1f8e1c04877d8463912d04d973331ad4851f04de6915a"
   }
  }
 },
 "nbformat": 4,
 "nbformat_minor": 2
}
