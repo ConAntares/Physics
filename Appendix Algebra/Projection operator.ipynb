{
 "cells": [
  {
   "cell_type": "markdown",
   "metadata": {},
   "source": [
    "# Projection operator\n",
    "\n",
    "A projection is a linear transformation $P$ from a vector space to itself (an endomorphism) such that $P\\circ P=P$. Whenever projection operator "
   ]
  },
  {
   "cell_type": "markdown",
   "metadata": {},
   "source": []
  }
 ],
 "metadata": {
  "language_info": {
   "name": "python"
  },
  "orig_nbformat": 4
 },
 "nbformat": 4,
 "nbformat_minor": 2
}
