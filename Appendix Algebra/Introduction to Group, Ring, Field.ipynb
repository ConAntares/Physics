{
 "cells": [
  {
   "cell_type": "markdown",
   "metadata": {},
   "source": [
    "# Group, Ring, and Field: An Introduction\n",
    "\n",
    "## Group\n",
    "\n",
    "Let $G\\neq\\varnothing$ be any set, and let $\\circ: G\\times G\\to G$ be any binary operation, we call $(G, \\circ)$ a group if:\n",
    "\n",
    "* $a\\circ b\\circ c = (a\\circ b)\\circ c = a\\circ(b\\circ c)$ for all $a,b,c \\in G$, that is $\\circ$ is associative;\n",
    "\n",
    "* There is a neutral element: $e\\in G$;\n",
    "\n",
    "* For every element $a\\in G$, there exists an inverse element $b\\in G$: $a\\circ b = b\\circ a = e$;\n",
    "\n",
    "* A group is called Abelian group if $\\circ$ is commutative. that is $a\\circ b = b\\circ a$ for all $a,b\\in G$; Commutative groups are called Abelian groups in honor of Niels Henrik Abel (1802 - 1829).\n",
    "\n",
    "* For groups, the neutral element $e$ is uniquely determined. The following is proof:\n",
    "\n",
    "First, we consider two different neutral elements: $e_1$, $e_2$, we have:\n",
    "\n",
    "$$ \\begin{align} e_1 \\circ e_2 &= e_1 \\\\ e_1 \\circ e_2 &= e_2 \\end{align} $$\n",
    "\n",
    "Then, we get $e_1 = e_2$.\n",
    "\n",
    "For every element in a group, the inverse element is also uniquely determined. The following is proof:\n",
    "\n",
    "First, we consider two inverse element: $a'_1$, $a'_2$ for element $a$, we get:\n",
    "\n",
    "$$ \\begin{align}a\\circ a'_1 &= a\\circ a'_2 = e \\\\ a'_1\\circ a &= a'_2\\circ a = e \\end{align} $$\n",
    "\n",
    "We can get:\n",
    "\n",
    "$$ \\begin{align}a'_2\\circ(a\\circ a'_1) &= a'_2\\circ e \\\\ (a'_2\\circ a)\\circ a'_1 &= e\\circ a'_1 \\end{align} $$\n",
    "\n",
    "Because:\n",
    "\n",
    "$$ a'_2\\circ e = e\\circ a'_1 $$\n",
    "\n",
    "We get:\n",
    "\n",
    "$$ a'_1=a'_2 $$\n"
   ]
  },
  {
   "cell_type": "markdown",
   "metadata": {},
   "source": [
    "## Ring"
   ]
  },
  {
   "cell_type": "markdown",
   "metadata": {},
   "source": [
    "## Field"
   ]
  },
  {
   "cell_type": "markdown",
   "metadata": {},
   "source": [
    "## Field and Ring Axioms"
   ]
  },
  {
   "cell_type": "markdown",
   "metadata": {},
   "source": []
  }
 ],
 "metadata": {
  "kernelspec": {
   "display_name": "Python 3.10.6 64-bit",
   "language": "python",
   "name": "python3"
  },
  "language_info": {
   "name": "python",
   "version": "3.10.6"
  },
  "orig_nbformat": 4,
  "vscode": {
   "interpreter": {
    "hash": "916dbcbb3f70747c44a77c7bcd40155683ae19c65e1c03b4aa3499c5328201f1"
   }
  }
 },
 "nbformat": 4,
 "nbformat_minor": 2
}
