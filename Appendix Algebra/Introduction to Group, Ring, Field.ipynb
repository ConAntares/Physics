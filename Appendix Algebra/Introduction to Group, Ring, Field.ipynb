{
 "cells": [
  {
   "cell_type": "markdown",
   "metadata": {},
   "source": [
    "# Group, Ring, and Field: An Introduction\n",
    "\n",
    "## Group\n",
    "\n",
    "Let $G\\neq\\empty$ be any set, and let $\\circ: G\\times G\\to G$ be any binary operation, we call $(G, \\circ)$ a group if:\n",
    "\n",
    "* $a\\circ b\\circ c = (a\\circ b)\\circ c = a\\circ(b\\circ c)$ for all $a,b,c \\in G$, that is $\\circ$ is associative"
   ]
  },
  {
   "cell_type": "markdown",
   "metadata": {},
   "source": []
  }
 ],
 "metadata": {
  "language_info": {
   "name": "python"
  },
  "orig_nbformat": 4
 },
 "nbformat": 4,
 "nbformat_minor": 2
}
