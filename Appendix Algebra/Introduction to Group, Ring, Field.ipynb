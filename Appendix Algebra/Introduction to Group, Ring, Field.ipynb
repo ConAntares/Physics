{
 "cells": [
  {
   "cell_type": "markdown",
   "metadata": {},
   "source": [
    "# Group, Ring, and Field: An Introduction\n",
    "\n",
    "## Group\n",
    "\n",
    "Let $G\\neq\\varnothing$ be any set, and let $\\circ: G\\times G\\to G$ be any binary operation, we call $(G, \\circ)$ a group if:\n",
    "\n",
    "* $a\\circ b\\circ c = (a\\circ b)\\circ c = a\\circ(b\\circ c)$ for all $a,b,c \\in G$, that is $\\circ$ is associative;\n",
    "\n",
    "* There is a neutral element: $e\\in G$;\n",
    "\n",
    "* For every element $a\\in G$, there exists an inverse element $b\\in G$: $a\\circ b = b\\circ a = e$;\n",
    "\n",
    "* A group is called Abelian group if $\\circ$ is commutative. that is $a\\circ b = b\\circ a$ for all $a,b\\in G$; Commutative groups are called Abelian groups in honor of Niels Henrik Abel (1802 - 1829).\n",
    "\n",
    "* For groups, the neutral element $e$ is uniquely determined. The following is proof:\n",
    "\n",
    "First, we consider two different neutral elements: $e_1$, $e_2$, we have:\n",
    "\n",
    "$$ \\begin{align*} e_1 \\circ e_2 &= e_1 \\\\ e_1 \\circ e_2 &= e_2 \\end{align*} $$\n",
    "\n",
    "Then, we get $e_1 = e_2$.\n",
    "\n",
    "For every element in a group, the inverse element is also uniquely determined. The following is proof:\n",
    "\n",
    "First, we consider two inverse element: $a'_1$, $a'_2$ for element $a$, we get:\n",
    "\n",
    "$$ \\begin{align*}a\\circ a'_1 &= a\\circ a'_2 = e \\\\ a'_1\\circ a &= a'_2\\circ a = e \\end{align*} $$\n",
    "\n",
    "We can get:\n",
    "\n",
    "$$ \\begin{align*}a'_2\\circ(a\\circ a'_1) &= a'_2\\circ e \\\\ (a'_2\\circ a)\\circ a'_1 &= e\\circ a'_1 \\end{align*} $$\n",
    "\n",
    "Because:\n",
    "\n",
    "$$ a'_2\\circ e = e\\circ a'_1 $$\n",
    "\n",
    "We get:\n",
    "\n",
    "$$ a'_1=a'_2 $$\n"
   ]
  },
  {
   "cell_type": "markdown",
   "metadata": {},
   "source": [
    "## Ring\n",
    "\n",
    "Let $G\\neq\\varnothing$ be any set equipped with two binary operations $\\circ$, $*$ satisfying. The following set of axioms called Ring axioms, and we call $(R,\\circ,*)$ a ring if:\n",
    "\n",
    "* $(R,\\circ)$ is an Abelian group;\n",
    "\n",
    "* $(R, *)$ is monoid under the binary operation $*$, meaning that $(R,*)$ is a group;\n",
    "\n",
    "* The following distributive laws are satisfied:\n",
    "\n",
    "$$ \\begin{align*} a * (b \\circ c) = (a * b) \\circ (a * c) \\\\ (b \\circ c) * a = (b * a) \\circ (c * a) \\end{align*} $$"
   ]
  },
  {
   "cell_type": "markdown",
   "metadata": {},
   "source": [
    "## Field\n",
    "\n",
    "Let $F\\neq\\varnothing$ be any containing two distinguished elements $e_0$, $e_1$, where $e_0\\neq e_1$, and let $\\circ, *: F \\times F \\to F$ be two binary operations, we call $(F, \\circ, *)$ a field if:\n",
    "\n",
    "* $(F,\\circ)$ is an Abelian group with neutral element $e_0$;\n",
    "\n",
    "* $(F/\\{e_0\\},*)$ is a group with neutral element $e_1$;\n",
    "\n",
    "* The following distributive laws are satisfied:\n",
    "\n",
    "$$ \\begin{align*} a * (b \\circ c) = (a * b) \\circ (a * c) \\\\ (b \\circ c) * a = (b * a) \\circ (c * a) \\end{align*} $$\n",
    "\n",
    "* A field $(F,\\circ,*)$ is said to be Abelian or Commutative if $ a * b = b * a $ for all $ a, b \\in F/\\{e_0\\}$ holds."
   ]
  },
  {
   "cell_type": "markdown",
   "metadata": {},
   "source": [
    "## Field and Ring Axioms\n",
    "\n",
    "|| Ring | Abelian Ring | Division Ring / Skew Field | Field |\n",
    "|-|-|-|-|-|\n",
    "| Abelian group structure | ✓ | ✓ | ✓ | ✓ |\n",
    "| Multiplicative structure and distributivity | ✓ | ✓ | ✓ | ✓ |\n",
    "| Commutativity of Multiplication | × | ✓ | × | ✓ |\n",
    "| Multiplicative inverse | × | × | ✓ | ✓ | \n"
   ]
  },
  {
   "cell_type": "markdown",
   "metadata": {},
   "source": []
  }
 ],
 "metadata": {
  "kernelspec": {
   "display_name": "Python 3.10.8 64-bit",
   "language": "python",
   "name": "python3"
  },
  "language_info": {
   "name": "python",
   "version": "3.10.8"
  },
  "orig_nbformat": 4,
  "vscode": {
   "interpreter": {
    "hash": "e7370f93d1d0cde622a1f8e1c04877d8463912d04d973331ad4851f04de6915a"
   }
  }
 },
 "nbformat": 4,
 "nbformat_minor": 2
}
