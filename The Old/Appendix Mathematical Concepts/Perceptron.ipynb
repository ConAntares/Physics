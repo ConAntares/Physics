{
 "cells": [
  {
   "cell_type": "markdown",
   "metadata": {},
   "source": [
    "# Perceptron\n",
    "\n",
    "## AND gate\n",
    "\n",
    "### Introduction\n",
    "\n",
    "The AND gate is a basic digital logic gate that implements logical conjunction ($∧$) from mathematical logic – AND gate behaves according to the truth table above. A true output ($1$) results only if all the inputs to the AND gate are true. If not all inputs to the AND gate are true, false output ($0$) results. The function can be extended to any number of inputs. It can also be denoted as symbol $∧$ or $\\&$. \n",
    "\n",
    "The AND gate with inputs A and B and output C implements the logical expression  $C=A\\cdot B$. This expression also may be denoted as $C = A ∧ B$, or $C = A \\& B$. \n",
    "\n",
    "### Analytical representation\n",
    "\n",
    "$f(a,b)=a\\cdot b$ is the analytical representation of AND gate: \n",
    "\n",
    "* $ f(0,0) = 0\\cdot 0 = 0 $\n",
    "* $ f(0,1) = 0\\cdot 1 = 0 $\n",
    "* $ f(1,0) = 1\\cdot 0 = 0 $\n",
    "* $ f(1,1) = 1\\cdot 1 = 1 $"
   ]
  },
  {
   "cell_type": "code",
   "execution_count": 2,
   "metadata": {},
   "outputs": [],
   "source": [
    "# Received an AND function with parameters (x1, x2)\n",
    "\n",
    "def AND(x1, x2):\n",
    "    w1 = 0.5; w2 = 0.5; θ  = 0.75\n",
    "    t  = x1 * w1 + x2 * w2\n",
    "    if t <= θ:\n",
    "        return 0\n",
    "    elif t > θ:\n",
    "        return 1"
   ]
  },
  {
   "cell_type": "markdown",
   "metadata": {},
   "source": [
    "## OR gate\n",
    "\n",
    "### Introduction\n",
    "\n",
    "The OR gate is a digital logic gate that implements logical disjunction ($∨$) from mathematical logic – it behaves according to the truth table above. A true output ($1$) results if one or both the inputs to the gate are true. If neither input is high, a false output ($0$) results. In another sense, the function of OR effectively finds the maximum between two binary digits, just as the complementary AND function finds the minimum. It can also be denoted as symbol $∨$. \n",
    "\n",
    "The OR gate with inputs A and B and output C implements the logical expression  $C=A + B - A * B$. This expression also may be denoted as $C = A ∨ B$. \n",
    "\n",
    "### Analytical representation\n",
    "\n",
    "$ f(a,b)=a + b - a \\cdot b $ is the analytical representation of OR gate:\n",
    "\n",
    "* $ f(0,0) = 0 + 0 - 0 \\cdot 0 = 0 $\n",
    "* $ f(0,1) = 0 + 1 - 0 \\cdot 1 = 1 $\n",
    "* $ f(1,0) = 1 + 0 - 1 \\cdot 0 = 1 $\n",
    "* $ f(1,1) = 1 + 1 - 1 \\cdot 1 = 1 $\n"
   ]
  },
  {
   "cell_type": "code",
   "execution_count": 3,
   "metadata": {},
   "outputs": [],
   "source": [
    "# Received an OR function with parameters (x1, x2)\n",
    "\n",
    "def OR(x1, x2):\n",
    "    w1 = 0.5; w2 = 0.5; θ  = 0.25\n",
    "    t  = x1 * w1 + x2 * w2\n",
    "    if t <= θ:\n",
    "        return 0\n",
    "    elif t > θ:\n",
    "        return 1"
   ]
  },
  {
   "cell_type": "markdown",
   "metadata": {},
   "source": [
    "## NOT gate (Inverter)\n",
    "\n",
    "### Introduction\n",
    "\n",
    "An inverter or NOT gate is a logic gate which implements logical negation. In mathematical logic it is equivalent to the logical negation operator $¬$. The truth table is shown on the right. \n",
    "\n",
    "### Analytical representation\n",
    "\n",
    "$f(a) = 1 - a $ is the analytical representation of NOT gate:\n",
    "\n",
    "* $ f ( 0 ) = 1 − 0 = 1 $\n",
    "* $ f ( 1 ) = 1 − 1 = 0 $"
   ]
  },
  {
   "cell_type": "code",
   "execution_count": 4,
   "metadata": {},
   "outputs": [],
   "source": [
    "# Received a NOT function with parameters (x)\n",
    "\n",
    "def NOT(x):\n",
    "    w = 0.5; θ = 0.25; t = x * w\n",
    "    if t <= θ:\n",
    "        return 1\n",
    "    elif t > θ:\n",
    "        return 0"
   ]
  },
  {
   "cell_type": "markdown",
   "metadata": {},
   "source": [
    "## NAND gate\n",
    "\n",
    "### Introduction\n",
    "\n",
    "A NAND gate (NOT-AND) is a logic gate which produces an output which is false only if all its inputs are true; thus its output is complement to that of an AND gate. A false ($0$) output results only if all the inputs to the gate are true ($1$); if any input is false ($0$), a true ($1$) output results. A NAND gate is made using transistors and junction diodes. By De Morgan's laws, a two-input NAND gate's logic may be expressed as $A\\cdot B = A + B$, making a NAND gate equivalent to inverters followed by an OR gate. \n",
    "\n",
    "The NAND gate is significant because any boolean function can be implemented by using a combination of NAND gates. This property is called functional completeness. It shares this property with the NOR gate. Digital systems employing certain logic circuits take advantage of NAND's functional completeness. \n",
    "\n",
    "One way of expressing A NAND B is $\\overline{A∧B}$, where the symbol $∧$ signifies AND and the bar signifies the negation of the expression under it: in essence, simply $¬ (A ∧ B)$.\n",
    "\n",
    "### Analytical representation\n",
    "\n",
    "$f(a,b)=1 - a\\cdot b$ is the analytical representation of NAND gate: \n",
    "\n",
    "* $ f(0,0) = 0\\cdot 0 = 1 $\n",
    "* $ f(0,1) = 0\\cdot 1 = 1 $\n",
    "* $ f(1,0) = 1\\cdot 0 = 1 $\n",
    "* $ f(1,1) = 1\\cdot 1 = 0 $"
   ]
  },
  {
   "cell_type": "code",
   "execution_count": 5,
   "metadata": {},
   "outputs": [],
   "source": [
    "def NAND(x1, x2):\n",
    "    w1 = -0.5; w2 = -0.5; θ  = -0.75\n",
    "    t  = x1 * w1 + x2 * w2\n",
    "    if t <= θ:\n",
    "        return 0\n",
    "    elif t > θ:\n",
    "        return 1"
   ]
  },
  {
   "cell_type": "markdown",
   "metadata": {},
   "source": [
    "## NOR gate\n",
    "\n",
    "### Introduction\n",
    "\n",
    "The NOR gate is a digital logic gate that implements logical NOR - it behaves according to the truth table to the right. A true output ($1$) results if both the inputs to the gate are false ($0$); if one or both input is true ($1$), a false output ($0$) results. NOR is the result of the negation of the OR operator. It can also in some senses be seen as the inverse of an AND gate. NOR is a functionally complete operation—NOR gates can be combined to generate any other logical function. It shares this property with the NAND gate. By contrast, the OR operator is monotonic as it can only change false to true but not vice versa.\n",
    "\n",
    "One way of expressing A NAND B is $\\overline{A∨B}$, where the symbol $∨$ signifies OR and the bar signifies the negation of the expression under it: in essence, simply $¬ (A ∨ B)$.\n",
    "\n",
    "### Analytical representation\n",
    "\n",
    "$ f(a,b)=1 - (a + b - a * b) = 1 + a * b - a - b $ is the analytical representation of NOR gate:\n",
    "\n",
    "* $ f(0,0) = 1 - (0 + 0 - 0 * 0) = 1 $\n",
    "* $ f(0,1) = 1 - (0 + 1 - 0 * 1) = 0 $\n",
    "* $ f(1,0) = 1 - (1 + 0 - 1 * 0) = 0 $\n",
    "* $ f(1,1) = 1 - (1 + 1 - 1 * 1) = 0 $"
   ]
  },
  {
   "cell_type": "code",
   "execution_count": 6,
   "metadata": {},
   "outputs": [],
   "source": [
    "def NOR(x1, x2):\n",
    "    w1 = -0.5; w2 = -0.5; θ  = -0.125\n",
    "    t  = x1 * w1 + x2 * w2\n",
    "    if t <= θ:\n",
    "        return 0\n",
    "    elif t > θ:\n",
    "        return 1"
   ]
  },
  {
   "cell_type": "markdown",
   "metadata": {},
   "source": [
    "## XOR gate\n",
    "\n",
    "### Introduction\n",
    "\n",
    "XOR gate (sometimes EOR, or EXOR and pronounced as Exclusive OR) is a digital logic gate that gives a true ($1$) output when the number of true inputs is odd. An XOR gate implements an exclusive or $\\nleftrightarrow$ from mathematical logic; that is, a true output results if one, and only one, of the inputs to the gate is true. If both inputs are false ($0$) or both are true, a false output results. XOR represents the inequality function, i.e., the output is true if the inputs are not alike otherwise the output is false. A way to remember XOR is \"must have one or the other but not both\".\n",
    "\n",
    "XOR can also be viewed as addition modulo 2. As a result, XOR gates are used to implement binary addition in computers. A half adder consists of an XOR gate and an AND gate. Other uses include subtractors, comparators, and controlled inverters.\n",
    "\n",
    "The algebraic expressions $A\\cdot {\\overline {B}}+{\\overline {A}}\\cdot B$, or $ (A+B)\\cdot ({\\overline {A}}+{\\overline {B}})$, or $A\\oplus B$ all represent the XOR gate with inputs A and B. The behavior of XOR is summarized in the truth table shown on the right. \n",
    "\n",
    "### Analytical representation\n",
    "\n",
    "$f(a,b)=a + b - 2a\\cdot b$ or $f(a,b) = \\left|a-b\\right|$ is an analytical representation of XOR gate: \n",
    "\n",
    "* $ f(0,0) = \\left|0-0\\right| = 0 $\n",
    "* $ f(0,1) = \\left|0-1\\right| = 1 $\n",
    "* $ f(1,0) = \\left|1-0\\right| = 1 $\n",
    "* $ f(1,1) = \\left|1-1\\right| = 0 $\n",
    "\n"
   ]
  },
  {
   "cell_type": "code",
   "execution_count": 7,
   "metadata": {},
   "outputs": [],
   "source": [
    "def XOR(x1,x2):\n",
    "    α1 = NAND(x1,x2)\n",
    "    α2 = OR(x1,x2)\n",
    "    β  = AND(α1,α2)\n",
    "    return β"
   ]
  },
  {
   "cell_type": "markdown",
   "metadata": {},
   "source": [
    "### Logical gate with weight and bias\n",
    "\n",
    "We introduce the weight vector $[w_1, w_2]$ and the bias $b$. The all basic perceptual behaviors of logical gate can be demonstrated as following:\n",
    "\n",
    "$$  f(a,b) =\\left\\{\\begin{align}\n",
    "    0\\quad(b+w_1x_1+w_2x_2\\leq0) \\\\\n",
    "    1\\quad(b+w_1x_1+w_2x_2 > 0) \n",
    "\\end{align}\\right. $$\n",
    "\n",
    "For generally situation, the perceptual behavior can be written as:\n",
    "\n",
    "$$  f(x_i) =\\left\\{\\begin{align}\n",
    "    0\\quad(b+\\sum_i x_iw_i\\leq0) \\\\\n",
    "    1\\quad(b+\\sum_i x_iw_i > 0) \n",
    "\\end{align}\\right. $$"
   ]
  },
  {
   "cell_type": "code",
   "execution_count": 1,
   "metadata": {},
   "outputs": [],
   "source": [
    "# Received an logical gate function with parameters (x1, x2), bias (b), and weight (w1, w2) \n",
    "\n",
    "import numpy as np\n",
    "\n",
    "def Gate(x1, x2, w1, w2, b):\n",
    "    x = np.array([x1, x2])\n",
    "    w = np.array([w1, w2])\n",
    "    t = np.sum(w * x) + b\n",
    "    if t <= 0:\n",
    "        return 0\n",
    "    else:\n",
    "        return 1"
   ]
  }
 ],
 "metadata": {
  "kernelspec": {
   "display_name": "Python 3.10.8 64-bit",
   "language": "python",
   "name": "python3"
  },
  "language_info": {
   "codemirror_mode": {
    "name": "ipython",
    "version": 3
   },
   "file_extension": ".py",
   "mimetype": "text/x-python",
   "name": "python",
   "nbconvert_exporter": "python",
   "pygments_lexer": "ipython3",
   "version": "3.10.9"
  },
  "orig_nbformat": 4,
  "vscode": {
   "interpreter": {
    "hash": "e7370f93d1d0cde622a1f8e1c04877d8463912d04d973331ad4851f04de6915a"
   }
  }
 },
 "nbformat": 4,
 "nbformat_minor": 2
}
