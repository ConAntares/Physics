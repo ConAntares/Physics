{
 "cells": [
  {
   "cell_type": "markdown",
   "metadata": {},
   "source": [
    "# Liouville Equation\n",
    "\n",
    "## Classical Liouville Equation\n",
    "\n",
    "The Liouville equation describes the time evolution of the Phase space distribution functions. Although the equation is usually referred to as the \"Liouville Equation\", Josiah Willard Gibbs was the first to recognize the importance of this equation as the fundamental equation of statistical mechanics. It is referred to as Liouville equation because its derivation for non-canonical system utilises an identity first derived by Joseph Liouville in 1838.\n",
    "\n",
    "Consider a Hamiltonian dynamical system with canonical coordinates $q_i$ and conjugate momenta $p_i$, where $i = 1,2,..,n$. Then the phase space distribution $\\rho(p,q)$ determines the probability $\\rho(p,q)\\mathrm{d}^mq\\mathrm{d}^np$ that the system will be found in the infinitesimal phase space volume $\\mathrm{d}^mq\\mathrm{d}^np$. The Liouville equation governs the evolution of $\\rho(p,q;t)$ in time $t$:\n",
    "\n",
    "$$ \\frac{\\mathrm{d}\\rho(p,q;t)}{\\mathrm{d}t} = \\frac{\\partial\\rho}{\\partial t} + \\sum\\limits_{i=1}^n\\left(\\frac{\\partial\\rho}{\\partial q_i}\\dot q_i + \\frac{\\partial\\rho}{\\partial p_i}\\dot p_i\\right) = 0 $$\n",
    "\n",
    "Time derivatives are denoted by dots, and are evaluated according to Hamilton's equation. This equation demonstrates the conservation of density in phase (which was Gibbs's name for the theorem). Liouville's theorem states that: The distribution function is constant along any trajectory in phase space.\n",
    "\n",
    "Liouville equation is often restated in terms of the Poisson Bracket as:\n",
    "\n",
    "$$ \\frac{\\partial}{\\partial t}\\rho = -\\left\\{\\rho, H\\right\\} $$\n",
    "\n",
    "or in terms of the Liouville operator or Liouvillian,\n",
    "\n",
    "$$ \\mathrm{i}\\widehat{\\mathbf L} = \\sum_{i=1}^{n}\\left[\\frac{\\partial H}{\\partial p_{i}}\\frac{\\partial}{\\partial q^{i}}-\\frac{\\partial H}{\\partial q^{i}}\\frac{\\partial}{\\partial p_{i}}\\right] = \\left\\{\\bullet ,H\\right\\} $$\n",
    "\n",
    "We can get the following relation:\n",
    "\n",
    "$$ \\frac{\\partial}{\\partial t}\\rho + \\mathrm{i}\\widehat{\\mathbf L}\\rho = 0$$\n"
   ]
  },
  {
   "cell_type": "markdown",
   "metadata": {},
   "source": [
    "## Quantum Liouville Equation\n",
    "\n",
    "The analog of Liouville equation in quantum mechanics describes the time evolution of a mixed state. Canonical quantization yields a quantum mechanics version of this theorem, the Von-Neumann equation. This procedure, often used to devise quantum analogues of classical systems, involves describing a classical system using Hamiltonian mechanics. Classical variables are the re-interpreted as quantum operators, while Poisson brackets are replaced by commutators. In this case, the resulting equation is:\n",
    "\n",
    "$$ \\frac{\\partial}{\\partial t}\\rho = -\\frac{i}{\\hbar}\\left[H,\\rho\\right] $$\n",
    "\n",
    "where $\\rho$ is the matrix of density.\n",
    "\n",
    "When applied to the expectation value of an observable, the corresponding equation is given by Ehrenfest's theorem, and takes the form:\n",
    "\n",
    "$$ \\frac{\\mathrm{d}}{\\mathrm{d} t}\\braket{A} = -\\frac{i}{\\hbar}\\braket{\\left[A, H\\right]} $$\n",
    "\n",
    "where $A$ is an observable. Note the sign difference, which follows from the assumption that the operator is stationary and the state is time-dependent. \n",
    "\n",
    "In the phase space formulation of quantum mechanics, substituting the Moyal brackets for Poisson brackets in the phase-space analog of the von Neumann equation results in compressibility of the probability fluid, and thus violations of Liouville's theorem incompressibility. This, then, leads to concomitant difficulties in defining meaningful quantum trajectories.\n"
   ]
  },
  {
   "attachments": {},
   "cell_type": "markdown",
   "metadata": {},
   "source": [
    "Proof of Liouville equation with density matrix: \n",
    "\n",
    "$$ \\frac{\\partial}{\\partial t}\\rho = -\\frac{i}{\\hbar}\\left[\\hat{H},\\rho\\right] $$\n",
    "\n",
    "We introduce the Schrödinger equation:\n",
    "\n",
    "$$ i\\hbar\\frac{\\partial}{\\partial t}\\ket{\\psi(t)} = \\hat{H}\\ket{\\psi(t)} $$\n",
    "\n",
    "We have:\n",
    "\n",
    "$$ \\left\\{\\begin{align}\\hat{H}\\rho &= i\\hbar\\frac{\\partial}{\\partial t}\\rho \\\\ \\rho\\hat{H} &=-i\\hbar\\frac{\\partial}{\\partial t}\\rho \\end{align}\\right.$$\n",
    "\n",
    "The density matrix can be written as:\n",
    "\n",
    "$$ \\rho = \\sum\\limits_\\alpha{\\rho_\\alpha\\ket{\\psi_\\alpha}\\bra{\\psi_\\alpha}} $$\n",
    "\n",
    "We can get the following calculation:\n",
    "\n",
    "$$ \\frac{\\partial}{\\partial t}\\rho = \\frac{\\partial}{\\partial t}\\left(\\sum\\limits_\\alpha{\\rho_\\alpha\\ket{\\psi_\\alpha}\\bra{\\psi_\\alpha}}\\right) $$\n",
    "\n",
    "$$ \\begin{align}i\\hbar\\frac{\\partial}{\\partial t}\\rho \n",
    "&= i\\hbar\\frac{\\partial}{\\partial t}\\left(\\sum\\limits_\\alpha{\\rho_\\alpha\\ket{\\psi_\\alpha}\\bra{\\psi_\\alpha}}\\right) \\\\\n",
    "&= i\\hbar\\sum\\limits_\\alpha\\frac{\\partial}{\\partial t}\\rho_\\alpha\\left(\\ket{\\psi_\\alpha}\\bra{\\psi_\\alpha}\\right) \\\\\n",
    "&= \\sum\\limits_\\alpha\\left[\\left(i\\hbar\\frac{\\partial}{\\partial t}\\rho_\\alpha\\ket{\\psi_\\alpha}\\right)\\bra{\\psi_\\alpha}+\\ket{\\psi_\\alpha}\\left(i\\hbar\\frac{\\partial}{\\partial t}\\rho_\\alpha\\bra{\\psi_\\alpha}\\right)\\right] \\\\\n",
    "&= \\sum\\limits_\\alpha\\left[\\left(\\hat{H}\\rho_\\alpha\\ket{\\psi_\\alpha}\\right)\\bra{\\psi_\\alpha}-\\ket{\\psi_\\alpha}\\left(\\rho_\\alpha\\hat{H}\\bra{\\psi_\\alpha}\\right)\\right] \\\\\n",
    "&= \\hat{H}\\sum\\limits_\\alpha\\ket{\\psi_\\alpha}\\bra{\\psi_\\alpha}-\\sum\\limits_\\alpha\\ket{\\psi_\\alpha}\\bra{\\psi_\\alpha}\\hat{H} \\\\\n",
    "&= \\hat{H}\\rho - \\rho\\hat{H} \\\\\n",
    "&= \\left[\\hat{H},\\rho\\right] \\end{align} $$\n",
    "\n",
    "We get:\n",
    "\n",
    "$$ \\frac{\\partial}{\\partial t}\\rho = -\\frac{i}{\\hbar}\\left[\\hat{H},\\rho\\right] $$"
   ]
  },
  {
   "cell_type": "markdown",
   "metadata": {},
   "source": []
  }
 ],
 "metadata": {
  "kernelspec": {
   "display_name": "Python 3.10.8 64-bit",
   "language": "python",
   "name": "python3"
  },
  "language_info": {
   "name": "python",
   "version": "3.10.9"
  },
  "orig_nbformat": 4,
  "vscode": {
   "interpreter": {
    "hash": "e7370f93d1d0cde622a1f8e1c04877d8463912d04d973331ad4851f04de6915a"
   }
  }
 },
 "nbformat": 4,
 "nbformat_minor": 2
}
