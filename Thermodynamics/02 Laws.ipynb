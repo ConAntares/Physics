{
 "metadata": {
  "language_info": {
   "codemirror_mode": {
    "name": "ipython",
    "version": 3
   },
   "file_extension": ".py",
   "mimetype": "text/x-python",
   "name": "python",
   "nbconvert_exporter": "python",
   "pygments_lexer": "ipython3",
   "version": 3
  },
  "orig_nbformat": 2
 },
 "nbformat": 4,
 "nbformat_minor": 2,
 "cells": [
  {
   "source": [
    "# Laws"
   ],
   "cell_type": "markdown",
   "metadata": {}
  },
  {
   "source": [
    "## Internal energy\n",
    "\n",
    "The internal energy of a thermodynamic system is the energy contained within it. It is the energy necessary to create or prepare the system in any given internal state. It does not include the kinetic energy of motion of the system as a whole, nor the potential energy of the system as a whole due to external force fields, including the energy of displacement of the surroundings of the system. It keeps account of the gains and losses of energy of the system that are due to changes in its internal state. The internal energy is measured as a difference from a reference zero defined by a standard state. The difference is determined by thermodynamic processes that carry the system between the reference state and the current state of interest. \n"
   ],
   "cell_type": "markdown",
   "metadata": {}
  }
 ]
}