{
 "cells": [
  {
   "cell_type": "markdown",
   "metadata": {},
   "source": [
    "# Kinetic Theory of Gases\n",
    "\n",
    "## Definition\n",
    "\n",
    "The kinetic theory of gases is a historically significant, but simple, model of the thermodynamic behavior of gases, with which many principal concepts of thermodynamics were established. The model describes a gas as a large number of identical submicroscopic particles (atoms or molecules), all of which are in constant, rapid, random motion. Their size is assumed to be much smaller than the average distance between the particles. The particles undergo random elastic collisions between themselves and with the enclosing walls of the container. The basic version of the model describes the ideal gas, and considers no other interactions between the particles and, thus, the nature of kinetic energy transfers during collisions is strictly thermal.\n",
    "\n",
    "The kinetic theory of gases explains the macroscopic properties of gases, such as volume, pressure, and temperature, as well as transport properties such as viscosity, thermal conductivity and mass diffusivity. The model also accounts for related phenomena, such as Brownian motion. "
   ]
  },
  {
   "cell_type": "markdown",
   "metadata": {},
   "source": [
    "## Assumptions\n",
    "\n",
    "The application of kinetic theory to ideal gases makes the following assumptions:\n",
    "\n",
    "* The gas consists of very small particles. This smallness of their size is such that the sum of the volume of the individual gas molecules is negligible compared to the volume of the container of the gas. This is equivalent to stating that the average distance separating the gas particles is large compared to their size, and that the elapsed time of a collision between particles and the container's wall is negligible when compared to the time between successive collisions.\n",
    "\n",
    "* The particles have the same mass.\n",
    "\n",
    "* The number of particles is so large that a statistical treatment of the problem is well justified. This assumption is sometimes referred to as the thermodynamic limit.\n",
    "\n",
    "* The rapidly moving particles constantly collide among themselves and with the walls of the container. All these collisions are perfectly elastic, which means the molecules are perfect hard spheres.\n",
    "\n",
    "* Except during collisions, the interactions among molecules are negligible. They exert no other forces on one another.\n",
    "\n",
    "Thus, the dynamics of particle motion can be treated classically, and the equations of motion are time-reversible.\n",
    "\n",
    "More modern developments relax these assumptions and are based on the Boltzmann equation. These can accurately describe the properties of dense gases, because they include the volume of the particles. The necessary assumptions are the absence of quantum effects, molecular chaos and small gradients in bulk properties. Expansions to higher orders in the density are known as virial expansions. "
   ]
  },
  {
   "cell_type": "markdown",
   "metadata": {},
   "source": [
    "## Equilibrium properties\n",
    "\n",
    "### Pressure and kinetic energy\n",
    "\n",
    "In the kinetic model of gases, the pressure is equal to the force (per unit area) exerted by the atoms hitting and rebounding from a unit area of the gas container surface. Consider a gas of a large number N of molecules, each of mass m, enclosed in a cube of volume $V=L^3$. When a gas molecule collides with the wall of the container perpendicular to the x axis and bounces off in the opposite direction with the same speed (an elastic collision), the change in momentum is given by: \n",
    "\n",
    "$$\\Delta p=p_{i,x}-p_{f,x} \\\\ =p_{i,x}-(-p_{i,x}) \\\\ =2p_{i,x} \\\\= 2mv_x$$\n",
    "\n",
    "where $p$ is the momentum, $i$ and $f$ indicate initial and final momentum (before and after collision), $x$ indicates that only the $x$ direction is being considered, and $v$ is the speed of the particle (which is the same before and after the collision). \n",
    "\n",
    "The particle impacts one specific side wall once during the time interval:\n",
    "\n",
    "$$\\Delta t = \\frac{2L}{v_x}$$\n",
    "\n",
    "where L is the distance between opposite walls. We can get the force of the particle's collision with wall is:\n",
    "\n",
    "$$F=\\frac{\\Delta p}{\\Delta t}=\\frac{mv_x^2}{L}$$\n",
    "\n",
    "The total force on the wall is:\n",
    "\n",
    "$$F=\\frac{Nm⟨v_x^2⟩}{L}$$\n",
    "\n",
    "where the bar denotes an average over the $N$ particles.\n",
    "\n",
    "Since the motion of the particles is random and there is no bias applied in any direction, the average squared speed in each direction is identical: \n",
    "\n",
    "$$⟨v_x^2⟩=⟨v_y^2⟩=⟨v_z^2⟩$$\n",
    "\n",
    "By the Pythagorean theorem, in three dimensions the total squared speed $v$ is given by:\n",
    "\n",
    "$$⟨v^2⟩=⟨v_x^2⟩+⟨v_y^2⟩+⟨v_z^2⟩=3⟨v_x^2⟩$$\n",
    "\n",
    "The force can be written as\n",
    "\n",
    "$$F=\\frac{Nm⟨v^2⟩}{3L}$$\n",
    "\n",
    "The pressure of gas is:\n",
    "\n",
    "$$P=\\frac{F}{L^2}=\\frac{Nm⟨v^2⟩}{3L^3}=\\frac{Nm⟨v^2⟩}{3V}$$\n",
    "\n",
    "where $V = L^3$ is the volume of the box. \n",
    "\n",
    "In terms of the kinetic energy of the gas $K$:\n",
    "\n",
    "$$PV = \\frac{2}{3}K$$\n",
    "\n",
    "This is an important, non-trivial result of the kinetic theory because it relates pressure, a macroscopic property, to the (translational) kinetic energy of the molecules $N\\frac{1}{2}m⟨v^2⟩$, which is a microscopic property. \n",
    "\n",
    "### Temperature and kinetic energy\n",
    "\n",
    "Rewriting the above result for the pressure as $PV=\\frac{Nm⟨v^2⟩}{3}$, we may combine it with the ideal gas law:\n",
    "\n",
    "$$PV=Nk_BT$$\n",
    "\n",
    "where $k_B$ is Boltzmann constant, and $T$ the absolute temperature defined by the ideal gas law, to obtain:\n",
    "\n",
    "$$k_BT=\\frac{1}{3}m⟨v^2⟩$$\n",
    "\n",
    "which leads to simplified expression of the average kinetic energy per molecule,\n",
    "\n",
    "$$\\frac{1}{2}mv_t^2=\\frac{3}{2}k_BT$$\n",
    "\n",
    "$$v_t=\\sqrt{\\frac{3k_BT}{m}}$$\n",
    "\n",
    "The kinetic energy of the system is N times that of a molecule, namely $K=\\frac{1}{2}Nm⟨v^2⟩$. Then the temperature $T$ takes the form:\n",
    "\n",
    "$$T=\\frac{1}{3}m⟨v^2⟩ \\\\ =\\frac{2K}{3N k_B}$$\n",
    "\n",
    "Then, we have:\n",
    "\n",
    "$$PV=\\frac{2}{3}K$$\n",
    "\n",
    "### Speed of molecules\n",
    "\n",
    "From the kinetic energy formula it can be shown that:\n",
    "\n",
    "$$v_p=\\sqrt{\\frac{2k_BT}{m}}$$\n",
    "\n",
    "$$⟨v⟩=\\frac{2}{\\sqrt{\\pi}}v_p=sqrt{\\frac{8k_BT}{\\pi m}}$$\n",
    "\n",
    "$$v_{\\rm rms}=\\sqrt{\\frac{3}{2}}v_p=\\sqrt{3\\frac{k_BT}{m}}$$\n",
    "\n",
    "where $v$ is in ${\\rm m/s}$, $T$ is in kelvins, and m is the mass of one molecule of gas. The most probable (or mode) speed $v_p$ is 81.6% of the rms speed $v_{\\rm rms}$, and the mean (arithmetic mean, or average) speed $⟨v⟩$ \\bar v is 92.1% of the rms speed (isotropic distribution of speeds). "
   ]
  },
  {
   "cell_type": "code",
   "execution_count": 15,
   "metadata": {},
   "outputs": [
    {
     "data": {
      "text/plain": [
       "<matplotlib.legend.Legend at 0x7fb1a1903470>"
      ]
     },
     "execution_count": 15,
     "metadata": {},
     "output_type": "execute_result"
    },
    {
     "data": {
      "image/png": "[encoded data removed]",
      "text/plain": [
       "<Figure size 432x288 with 1 Axes>"
      ]
     },
     "metadata": {
      "needs_background": "light"
     },
     "output_type": "display_data"
    }
   ],
   "source": [
    "# Kinetic Theory of Gases Demo for some gases\n",
    "\n",
    "import numpy as np\n",
    "T = np.arange(0,1000,1)\n",
    "k = 1.380649e-23\n",
    "m = np.matrix([2,28,32])*1.67e-27\n",
    "v = np.sqrt(3*k*T/m.T)\n",
    "\n",
    "import matplotlib; import matplotlib.pyplot as plt\n",
    "plt.figure(dpi=192); params = {\"text.usetex\":True, \"font.family\":\"serif\", \"mathtext.fontset\":\"cm\", \"axes.titlesize\": 16, \"axes.labelsize\":14}\n",
    "matplotlib.rcParams.update(params)\n",
    "plt.ticklabel_format(style=\"sci\", scilimits=(0,0)); plt.tick_params(direction=\"in\",top=True,right=True,bottom=True,left=True)\n",
    "plt.title(\"Kinetic Theory of Gases\"); plt.xlabel(r\"Temperature ($\\rm{K}$)\"); plt.ylabel(r\"Melocule Velocity ($\\rm{ms^{-1}}$)\")\n",
    "plt.plot(T,np.array(v[0,:].T),label=r\"Hydrogen $\\rm{H_2}$\")\n",
    "plt.plot(T,np.array(v[1,:].T),label=r\"Nitrogen $\\rm{N_2}$\")\n",
    "plt.plot(T,np.array(v[2,:].T),label=r\"Oxygen $\\rm{O_2}$\")   \n",
    "plt.legend(loc=\"best\")\n"
   ]
  }
 ],
 "metadata": {
  "file_extension": ".py",
  "interpreter": {
   "hash": "31f2aee4e71d21fbe5cf8b01ff0e069b9275f58929596ceb00d14d90e3e16cd6"
  },
  "kernelspec": {
   "display_name": "Python 3.6.13 64-bit",
   "name": "python3"
  },
  "language_info": {
   "name": "python",
   "version": ""
  },
  "metadata": {
   "interpreter": {
    "hash": "aee8b7b246df8f9039afb4144a1f6fd8d2ca17a180786b69acc140d282b71a49"
   }
  },
  "mimetype": "text/x-python",
  "name": "python",
  "npconvert_exporter": "python",
  "orig_nbformat": 2,
  "pygments_lexer": "ipython3",
  "version": 3
 },
 "nbformat": 4,
 "nbformat_minor": 2
}