{
 "cells": [
  {
   "attachments": {},
   "cell_type": "markdown",
   "metadata": {},
   "source": [
    "# Introduction to Vectors, Matrices\n",
    "\n",
    "## Vectors\n",
    "\n",
    "Representing an n-dimensional vector requests to offer an n-dimensional vector space $\\mathbb{V}^n$. The vector is written as an n-tuple of numbers. For n-dimensional real vector space $\\mathbb{R}^n = \\{(r_1, r_2, ... , r_n): r_1, r_2, ... , r_n \\in \\mathbb{R}^n \\}$, the vector can be represented as $\\vec{r} = (r_1, r_2, ... , r_n) $\n",
    "\n",
    "For example, the vector $\\vec{r} = (x, y, z)$ is a 3-dimensional vector in $\\mathbb{R}^3$. The zero vector is in $\\mathbb{R}^n$ with all elements zero.\n",
    "\n",
    "Vectors can be divided into row vectors and column vectors. The transpose of a column vector is a row vector with the same length and elements order, and vice versa. The transpose of vector $v$ is represented as $v^T$, the conjugate of this vector is represented as $v^*$, and the Hermitian transpose (conjugate transpose) is represented as $v^\\dag$. With Dirac notation, we can represent a row vector as a Bra: $|r⟩$, and a column vector as a Ket: $⟨c|$.\n",
    "\n",
    "The vector $|v⟩$ and $⟨v|$ are transposed conjugate to each other:\n",
    "\n",
    "$$  \\left\\{\\begin{array}{rcl}\n",
    "    |v⟩ =  ⟨v|^\\dag \\\\\n",
    "    ⟨v| =  |v⟩^\\dag\n",
    "\\end{array}\\right. $$\n",
    "\n",
    "In Python, with the package `NumPy`, we can use the function `numpy.array` to represent a vector.\n",
    "\n",
    "We will respectively demonstrate a row vector $|r⟩$ and a column vector $⟨c|$ as follows.\n"
   ]
  },
  {
   "cell_type": "code",
   "execution_count": 42,
   "metadata": {},
   "outputs": [
    {
     "data": {
      "text/plain": [
       "array([[1.2, 2.3, 3.1]])"
      ]
     },
     "execution_count": 42,
     "metadata": {},
     "output_type": "execute_result"
    }
   ],
   "source": [
    "import numpy as np\n",
    "\n",
    "r = np.array([[1.2,2.3,3.1]]); r\n"
   ]
  },
  {
   "cell_type": "code",
   "execution_count": 43,
   "metadata": {},
   "outputs": [
    {
     "data": {
      "text/plain": [
       "array([[1.1],\n",
       "       [2.2],\n",
       "       [3.3]])"
      ]
     },
     "execution_count": 43,
     "metadata": {},
     "output_type": "execute_result"
    }
   ],
   "source": [
    "c = np.array([[1.1],[2.2],[3.3]]); c"
   ]
  },
  {
   "attachments": {},
   "cell_type": "markdown",
   "metadata": {},
   "source": [
    "### Norm\n",
    "\n",
    "The norm of a vector is a function from a real or complex vector space to the non-negative real numbers. The most common concept of a norm is the Euclidean norm. The Euclidean norm of a vector is the measure of its length, it is also called $L^2$ norm, $\\ell^2$ norm, or square norm, it can be denoted by $\\|v\\|_2$, this length is called Euclidean length, $L^2$ length, or $\\ell^2$ length which refers to the Physical length:\n",
    "\n",
    "$$ \\|v\\|_2 = \\sqrt{\\sum_i v_i^2} $$\n",
    "\n",
    "The package `NumPy` provides the function `numpy.linalg.norm` to compute the Euclidean and Manhattan norm:"
   ]
  },
  {
   "cell_type": "code",
   "execution_count": 44,
   "metadata": {},
   "outputs": [
    {
     "data": {
      "text/plain": [
       "5.856620185738529"
      ]
     },
     "execution_count": 44,
     "metadata": {},
     "output_type": "execute_result"
    }
   ],
   "source": [
    "v = np.array([[1.4, 2.3, 3.2, 4.1]]);\n",
    "\n",
    "np.linalg.norm(v, 2)"
   ]
  },
  {
   "attachments": {},
   "cell_type": "markdown",
   "metadata": {},
   "source": [
    "The default value of this function refers to the Euclidean norm:"
   ]
  },
  {
   "cell_type": "code",
   "execution_count": 45,
   "metadata": {},
   "outputs": [
    {
     "data": {
      "text/plain": [
       "5.856620185738529"
      ]
     },
     "execution_count": 45,
     "metadata": {},
     "output_type": "execute_result"
    }
   ],
   "source": [
    "np.linalg.norm(v)"
   ]
  },
  {
   "attachments": {},
   "cell_type": "markdown",
   "metadata": {},
   "source": [
    "For a complex number $z = x + iy $, its Euclidean norm equals its absolute value: the sqrt of the dot product with itself:\n",
    "\n",
    "$$ \\|z\\|= |z| = \\sqrt{x^2 + y^2} = \\sqrt{z \\cdot z^*} $$"
   ]
  },
  {
   "attachments": {},
   "cell_type": "markdown",
   "metadata": {},
   "source": [
    "In addition, for a vector $v$, the Manhattan norm (or Taxicab norm) is written as $\\|v\\|_1$ and measures the sum of the absolute differences of the Cartesian coordinates of its elements: the Manhattan distance Manhattan norm can be called $L^1$ norm or $\\ell^1$ norm, the Manhattan distance can be also called $L^1$ distance or $\\ell^1$ distance.\n",
    "\n",
    "For a vector $v$, the Manhattan norm is demonstrated as:\n",
    "\n",
    "$$ \\|\\vec{v}\\|_1 = \\sum_i v_i $$\n",
    "\n",
    "For a 2-dimensional vector $\\vec{d}(x,y)$, its Manhattan norm is computed as:\n",
    "\n",
    "$$ \\|\\vec{d}(x,y)\\|_1 = |x|+|y| $$\n",
    "\n",
    "The following code will compute the Manhattan norm of a vector:"
   ]
  },
  {
   "cell_type": "code",
   "execution_count": 46,
   "metadata": {},
   "outputs": [
    {
     "data": {
      "text/plain": [
       "4.1"
      ]
     },
     "execution_count": 46,
     "metadata": {},
     "output_type": "execute_result"
    }
   ],
   "source": [
    "np.linalg.norm(v, 1)"
   ]
  },
  {
   "attachments": {},
   "cell_type": "markdown",
   "metadata": {},
   "source": [
    "The absolute-value norm works on one-dimensional vector spaces formed by real or complex numbers. For a complex number, its absolute-value norm equals its Euclidean norm."
   ]
  },
  {
   "attachments": {},
   "cell_type": "markdown",
   "metadata": {},
   "source": [
    "### Dot product"
   ]
  },
  {
   "attachments": {},
   "cell_type": "markdown",
   "metadata": {},
   "source": [
    "### Cross product"
   ]
  },
  {
   "attachments": {},
   "cell_type": "markdown",
   "metadata": {},
   "source": [
    "## Matrices\n",
    "\n",
    "Matrices are represented as an $m \\times n$ array or grid. It means this matrix has $m$ rows and $n$ columns. \n",
    "\n",
    "In Python, the packages `NumPy` and `SymPy` offer the matrices representing methods. They are the function `numpy.matrix` and `sympy.Matrix` respectively."
   ]
  }
 ],
 "metadata": {
  "kernelspec": {
   "display_name": "Python 3",
   "language": "python",
   "name": "python3"
  },
  "language_info": {
   "codemirror_mode": {
    "name": "ipython",
    "version": 3
   },
   "file_extension": ".py",
   "mimetype": "text/x-python",
   "name": "python",
   "nbconvert_exporter": "python",
   "pygments_lexer": "ipython3",
   "version": "3.10.9"
  },
  "orig_nbformat": 4,
  "vscode": {
   "interpreter": {
    "hash": "e7370f93d1d0cde622a1f8e1c04877d8463912d04d973331ad4851f04de6915a"
   }
  }
 },
 "nbformat": 4,
 "nbformat_minor": 2
}
