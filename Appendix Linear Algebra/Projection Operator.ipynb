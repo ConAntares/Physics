{
 "cells": [
  {
   "attachments": {},
   "cell_type": "markdown",
   "metadata": {},
   "source": [
    "# Projection Operator\n",
    "\n",
    "A projection is a linear transformation $P$ from a vector space to itself (an endomorphism) such that $P\\circ P=P$. Whenever the projection operator $P$ is applied twice to any vector, it gives the same result as if it were applied once, in other words, the projection operator $P$ is idempotent."
   ]
  },
  {
   "attachments": {},
   "cell_type": "markdown",
   "metadata": {},
   "source": [
    "## Definitions\n",
    "\n",
    "A projection operator on a vector space $V$ is defined as $\\hat{P}_i = |i⟩⟨i|$, $|i⟩$ is a unit vector in the current space. \n",
    "\n",
    "It acts on a vector $|\\psi⟩$ as:\n",
    "\n",
    "$$ \\hat{P}_i|\\psi⟩ = |i⟩⟨i|\\psi⟩ = ⟨i|\\psi⟩|i⟩$$\n",
    "\n",
    "If we project a vector along with all the bases, it returns the vector itself. \n",
    "\n",
    "$$ \\sum_{i}\\hat{P}_i|\\psi⟩ = \\sum_{i}|i⟩⟨i|\\psi⟩ = |\\psi⟩ $$\n",
    "\n",
    "In other words, the identity operator projects out the entire state:\n",
    "\n",
    "$$ \\hat{\\mathbb{P}}|\\psi⟩ = \\hat{I}|\\psi⟩ = \\sum_{i}\\hat{P}_i|\\psi⟩ = \\sum_{i}|i⟩⟨i|\\psi⟩ = |\\psi⟩ $$\n"
   ]
  },
  {
   "cell_type": "markdown",
   "metadata": {},
   "source": []
  }
 ],
 "metadata": {
  "kernelspec": {
   "display_name": "Python 3.10.8 64-bit",
   "language": "python",
   "name": "python3"
  },
  "language_info": {
   "name": "python",
   "version": "3.10.9"
  },
  "orig_nbformat": 4,
  "vscode": {
   "interpreter": {
    "hash": "e7370f93d1d0cde622a1f8e1c04877d8463912d04d973331ad4851f04de6915a"
   }
  }
 },
 "nbformat": 4,
 "nbformat_minor": 2
}
