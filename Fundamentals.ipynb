{
 "cells": [
  {
   "attachments": {},
   "cell_type": "markdown",
   "metadata": {},
   "source": [
    "# Fundamentals\n",
    "\n",
    "This lecture will introduce the fundamental techniques required for computational methods. It encompasses the basic usage of Python, Numpy, and Matplotlib.\n",
    "\n",
    "## Python Basic\n",
    "\n",
    "Python, a dynamically interpreted language, was initiated by Guido van Rossum in 1989. It has been developed across numerous industries and continues to demonstrate tremendous vitality today. Its extensive collection of packages greatly widens its potential applications. While Python can be utilized via the interactive dialogue for quick solutions, and it also supports script execution for crucial computations. Although the interactive dialogue offers convenience and speed, when it comes to computational methods, our primary focus should be on script execution."
   ]
  },
  {
   "cell_type": "code",
   "execution_count": 1,
   "metadata": {},
   "outputs": [
    {
     "name": "stdout",
     "output_type": "stream",
     "text": [
      "For a circle with a radius of 100 the circumference is 628.3185307179587 the area is 31415.926535897932\n"
     ]
    }
   ],
   "source": [
    "import numpy as np          # import module with an alias\n",
    "\n",
    "pi = np.pi; radius = 100\n",
    "perimeter = 2*pi*radius     # the expression of perimeter\n",
    "area = pi*radius**2\n",
    "\n",
    "print(\"For a circle with a radius of\", radius, \"the circumference is\", perimeter, \"the area is\", area)"
   ]
  },
  {
   "attachments": {},
   "cell_type": "markdown",
   "metadata": {},
   "source": [
    "### Variables\n",
    "\n",
    "In Python, variables are extremely convenient to use, as the explicit declaration is unnecessary. \n",
    "\n",
    "Firstly, we set three different variables:"
   ]
  },
  {
   "cell_type": "code",
   "execution_count": 2,
   "metadata": {},
   "outputs": [],
   "source": [
    "x = 114.514\n",
    "y = 1919810\n",
    "z = \"Physics\"\n",
    "a = True"
   ]
  },
  {
   "attachments": {},
   "cell_type": "markdown",
   "metadata": {},
   "source": [
    "The characteristics of variables can be demonstrated via particular statements. The statement `type` can show their data type:"
   ]
  },
  {
   "cell_type": "code",
   "execution_count": 3,
   "metadata": {},
   "outputs": [
    {
     "name": "stdout",
     "output_type": "stream",
     "text": [
      "The type of x is: <class 'float'> \n",
      "The type of y is: <class 'int'> \n",
      "The type of z is: <class 'str'>\n"
     ]
    }
   ],
   "source": [
    "print(\"The type of x is:\",type(x), \"\\nThe type of y is:\", type(y), \"\\nThe type of z is:\", type(z))"
   ]
  },
  {
   "attachments": {},
   "cell_type": "markdown",
   "metadata": {},
   "source": [
    "Variables come in various types. There is a concise summary:\n",
    "\n",
    "* Integer: Represented by class `'int'`, these are whole numbers without decimal points.\n",
    "\n",
    "* Float: Represented by class `'float'`, these are real numbers that include decimal points.\n",
    "\n",
    "* Complex: Represented by class `'complex'`, these numbers consist of both real and imaginary parts.\n",
    "\n",
    "* Boolean: Represented by class `'bool'`, these represent truth values, which can be either True or False.\n",
    "\n",
    "* String: Represented by class `'str'`, these consist of a sequence of characters."
   ]
  },
  {
   "attachments": {},
   "cell_type": "markdown",
   "metadata": {},
   "source": [
    "### Arithmetic\n",
    "\n",
    "The basic arithmetics are also straightforward and convenient. "
   ]
  },
  {
   "cell_type": "code",
   "execution_count": 4,
   "metadata": {},
   "outputs": [
    {
     "name": "stdout",
     "output_type": "stream",
     "text": [
      "We have two numbers: a = 1.3, b = 2.4\n",
      "Their sum is 3.7\n",
      "The difference between a and b is -1.0999999999999999\n",
      "The difference between b and a is 1.0999999999999999\n",
      "Their product is 3.12\n",
      "The quotient of a divided by b is 0.5416666666666667\n"
     ]
    }
   ],
   "source": [
    "# Generate source data\n",
    "a = 1.3; b = 2.4\n",
    "\n",
    "# Perform basic arithmetic operations\n",
    "addition = a + b\n",
    "difference = a - b\n",
    "product = a * b\n",
    "quotient = a / b\n",
    "\n",
    "# Display results\n",
    "print(f\"We have two numbers: a = {a}, b = {b}\")\n",
    "print(f\"Their sum is {addition}\")\n",
    "print(f\"The difference between a and b is {difference}\")\n",
    "print(f\"The difference between b and a is {-difference}\")\n",
    "print(f\"Their product is {product}\")\n",
    "print(f\"The quotient of a divided by b is {quotient}\")\n"
   ]
  },
  {
   "attachments": {},
   "cell_type": "markdown",
   "metadata": {},
   "source": [
    "Furthermore, Python features some built-in arithmetic functions. For instance, `a**b` signifies 'a' raised to the power of 'b':"
   ]
  },
  {
   "cell_type": "code",
   "execution_count": 5,
   "metadata": {},
   "outputs": [
    {
     "name": "stdout",
     "output_type": "stream",
     "text": [
      "a raised to the power of b is 1.8769990185500045\n"
     ]
    }
   ],
   "source": [
    "power = a**b\n",
    "print(f\"a raised to the power of b is {power}\")"
   ]
  },
  {
   "attachments": {},
   "cell_type": "markdown",
   "metadata": {},
   "source": [
    "Statement `a%b` returns the modulo. The following code realizes the even number discrimination via this statement:"
   ]
  },
  {
   "cell_type": "code",
   "execution_count": 6,
   "metadata": {},
   "outputs": [
    {
     "name": "stdout",
     "output_type": "stream",
     "text": [
      "The source number 1145141919810 is even\n"
     ]
    }
   ],
   "source": [
    "inte = 1145141919810\n",
    "\n",
    "if inte%2 == 0:\n",
    "    print(f\"The source number {inte} is even\")\n",
    "else:\n",
    "    print(f\"The source number {inte} is odd\")\n"
   ]
  },
  {
   "attachments": {},
   "cell_type": "markdown",
   "metadata": {},
   "source": [
    "## NumPy\n",
    "\n",
    "Arrays are the essential component of NumPy, representing its key value. In this lecture, the default form of arrays is provided by NumPy. The array class of NumPy is named `ndarray`. \n",
    "\n",
    "### One-dimensional arrays"
   ]
  },
  {
   "cell_type": "code",
   "execution_count": 7,
   "metadata": {},
   "outputs": [
    {
     "name": "stdout",
     "output_type": "stream",
     "text": [
      "[0.1 1.2 2.3 3.4 4.5 5.6]\n"
     ]
    }
   ],
   "source": [
    "import numpy as np\n",
    "\n",
    "L = [0.1, 1.2, 2.3, 3.4, 4.5, 5.6]; A = np.array(L)\n",
    "print(A)"
   ]
  },
  {
   "attachments": {},
   "cell_type": "markdown",
   "metadata": {},
   "source": [
    "Next, we will explore some features of this array. To begin with, we can use `ndarray.ndim`, which returns the number of array dimensions:"
   ]
  },
  {
   "cell_type": "code",
   "execution_count": 8,
   "metadata": {},
   "outputs": [
    {
     "name": "stdout",
     "output_type": "stream",
     "text": [
      "1\n"
     ]
    }
   ],
   "source": [
    "print(A.ndim)"
   ]
  },
  {
   "attachments": {},
   "cell_type": "markdown",
   "metadata": {},
   "source": [
    "\n",
    "\n",
    "`ndarray.shape`: Provides the shape (dimensionality) of the array.\n",
    "\n",
    "`ndarray.size`: Gives the total number of elements in the array.\n",
    "\n",
    "`ndarray.dtype`: Indicates the data type of array elements.\n",
    "\n",
    "`ndarray.itemsize`: Shows the size (in bytes) of each element in the array."
   ]
  },
  {
   "attachments": {},
   "cell_type": "markdown",
   "metadata": {},
   "source": []
  }
 ],
 "metadata": {
  "kernelspec": {
   "display_name": "Python 3",
   "language": "python",
   "name": "python3"
  },
  "language_info": {
   "codemirror_mode": {
    "name": "ipython",
    "version": 3
   },
   "file_extension": ".py",
   "mimetype": "text/x-python",
   "name": "python",
   "nbconvert_exporter": "python",
   "pygments_lexer": "ipython3",
   "version": "3.11.3"
  },
  "orig_nbformat": 4
 },
 "nbformat": 4,
 "nbformat_minor": 2
}
