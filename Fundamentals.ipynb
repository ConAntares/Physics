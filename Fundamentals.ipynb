{
 "cells": [
  {
   "attachments": {},
   "cell_type": "markdown",
   "metadata": {},
   "source": [
    "# Fundamentals\n",
    "\n",
    "This lecture will introduce the fundamental techniques required for computational methods. It encompasses the basic usage of Python, Numpy, and Matplotlib.\n",
    "\n",
    "## Python Basic\n",
    "\n",
    "Python, a dynamically interpreted language, was initiated by Guido van Rossum in 1989. It has been developed across numerous industries and continues to demonstrate tremendous vitality today. Its extensive collection of packages greatly widens its potential applications. While Python can be utilized via the interactive dialogue for quick solutions, and it also supports script execution for crucial computations. Although the interactive dialogue offers convenience and speed, when it comes to computational methods, our primary focus should be on script execution.\n",
    "\n",
    "### Variables"
   ]
  },
  {
   "attachments": {},
   "cell_type": "markdown",
   "metadata": {},
   "source": [
    "## NumPy\n",
    "\n",
    "The array class of NumPy is named `ndarray`. Here is an overview of its associated functions:\n",
    "\n",
    "1. `ndarray.ndim`: Returns the number of array dimensions.\n",
    "\n",
    "2. `ndarray.shape`: Provides the shape (dimensionality) of the array.\n",
    "\n",
    "3. `ndarray.size`: Gives the total number of elements in the array.\n",
    "\n",
    "4. `ndarray.dtype`: Indicates the data type of array elements.\n",
    "\n",
    "5. `ndarray.itemsize`: Shows the size (in bytes) of each element in the array.\n"
   ]
  }
 ],
 "metadata": {
  "kernelspec": {
   "display_name": "Python 3",
   "language": "python",
   "name": "python3"
  },
  "language_info": {
   "name": "python",
   "version": "3.11.3"
  },
  "orig_nbformat": 4
 },
 "nbformat": 4,
 "nbformat_minor": 2
}
