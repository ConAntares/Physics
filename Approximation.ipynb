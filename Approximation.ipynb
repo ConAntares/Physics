{
 "cells": [
  {
   "attachments": {},
   "cell_type": "markdown",
   "metadata": {},
   "source": [
    "# Approximation\n",
    "\n",
    "## Taylor approximation\n",
    "\n",
    "The Taylor approximation is an application of the Taylor series. It is a mathematical method used to approximate functions that are smooth and differentiable in a neighborhood of a given point. It is named after the English mathematician Brook Taylor, who introduced the concept in the early 18th century. \n",
    "\n",
    "The Taylor approximation expresses a function as an infinite sum of terms, with each term being a multiple of the function's derivatives at a specific point. The general formula for the Taylor series of a function $f(x)$ around a point $\\mathrm a$ is:\n",
    "\n",
    "$$\\begin{aligned}\n",
    "f(x)&=f(a)+\\frac{f'(a)}{1!}(x-a)+\\frac{f''(a)}{2!}(x-a)^2+\\frac{f^{(3)}(a)}{3!}(x-a)^3+\\cdots+\\frac{f^{(n)}(a)}{n!}(x-a)^n+\\cdots \\\\ \n",
    "&=\\sum_{i=0} \\frac{f^{(i)}(a)}{i!}(x-a)^i \\\\\n",
    "&=f(a)+\\nabla f(a)^T(x-a)\\end{aligned}$$\n",
    "\n",
    "Taylor approximation involves using a Taylor series to approximate a function in a neighborhood of a specific point. By taking a finite number of terms from the Taylor series, you can create a Taylor polynomial that serves as an approximation of the original function.\n",
    "\n",
    "The accuracy of the approximation depends on the number of terms used in the Taylor polynomial. The more terms included, the better the approximation becomes. However, it may also become more computationally expensive.\n",
    "\n",
    "The following example demonstrates how the Taylor expansion works to approximate the $\\sin(x)$ function."
   ]
  },
  {
   "cell_type": "code",
   "execution_count": 1,
   "metadata": {},
   "outputs": [
    {
     "name": "stdout",
     "output_type": "stream",
     "text": [
      "Taylor approximation of sin(40.0°) with 10 terms: 0.6427876096865393\n",
      "Exact value of sin(40.0°): 0.6427876096865393\n",
      "Error: 0.0\n"
     ]
    }
   ],
   "source": [
    "import math\n",
    "\n",
    "def taylor_approximation_sin(x, n_terms):\n",
    "    approximation = 0\n",
    "    for n in range(n_terms):\n",
    "        term = ((-1)**n) * (x**(2*n + 1)) / math.factorial(2*n + 1)\n",
    "        approximation += term\n",
    "    return approximation\n",
    "\n",
    "x = math.radians(40)    # Convert to radians\n",
    "n_terms = 10            # Use the first 10 terms for the Taylor expansion\n",
    "\n",
    "approximation = taylor_approximation_sin(x, n_terms)\n",
    "exact_value = math.sin(x)\n",
    "\n",
    "print(f\"Taylor approximation of sin({math.degrees(x)}°) with {n_terms} terms: {approximation}\")\n",
    "print(f\"Exact value of sin({math.degrees(x)}°): {exact_value}\")\n",
    "print(f\"Error: {abs(approximation - exact_value)}\")"
   ]
  },
  {
   "attachments": {},
   "cell_type": "markdown",
   "metadata": {},
   "source": [
    "## Fourier approximation\n",
    "\n",
    "The Fourier approximation is a powerful tool in mathematics, widely used in physics, engineering, and data analysis. The fundamental idea is to represent any periodic function as an infinite series of simple sine and cosine functions, where the frequencies of these functions are integer multiples of the fundamental frequency.\n",
    "\n",
    "The general form of the Fourier series is:\n",
    "\n",
    "$$ f(x) = a_0 + \\sum_{n=1}^{\\infty} [a_n \\cos(nx) + b_n \\sin(nx)] $$\n",
    "\n",
    "where $a_n$ and $b_n$ are the Fourier coefficients, which can be calculated by the following integrals:\n",
    "\n",
    "$$\\begin{align*}\n",
    "a_n &= \\frac{2}{T} \\int_{0}^{T} f(x) \\cos(n \\frac{2\\pi x}{T}) {\\rm d}x \\\\\n",
    "b_n &= \\frac{2}{T} \\int_{0}^{T} f(x) \\sin(n \\frac{2\\pi x}{T}) {\\rm d}x \n",
    "\\end{align*}$$\n",
    "\n",
    "For any given function $f(x)$, as long as it meets certain conditions, we can find its Fourier series by calculating the Fourier coefficients $a_n$ and $b_n$, and then use the Fourier series to approximate this function.\n"
   ]
  },
  {
   "attachments": {},
   "cell_type": "markdown",
   "metadata": {},
   "source": [
    "## Lagrange Interpolation"
   ]
  },
  {
   "attachments": {},
   "cell_type": "markdown",
   "metadata": {},
   "source": [
    "## Newton's Interpolation"
   ]
  },
  {
   "attachments": {},
   "cell_type": "markdown",
   "metadata": {},
   "source": [
    "## Demostration"
   ]
  }
 ],
 "metadata": {
  "kernelspec": {
   "display_name": "Python 3",
   "language": "python",
   "name": "python3"
  },
  "language_info": {
   "codemirror_mode": {
    "name": "ipython",
    "version": 3
   },
   "file_extension": ".py",
   "mimetype": "text/x-python",
   "name": "python",
   "nbconvert_exporter": "python",
   "pygments_lexer": "ipython3",
   "version": "3.11.3"
  },
  "orig_nbformat": 4
 },
 "nbformat": 4,
 "nbformat_minor": 2
}
