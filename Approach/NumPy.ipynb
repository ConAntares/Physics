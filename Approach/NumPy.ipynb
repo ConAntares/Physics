{
 "cells": [
  {
   "attachments": {},
   "cell_type": "markdown",
   "metadata": {},
   "source": [
    "## NumPy\n",
    "\n",
    "Arrays are the essential component of NumPy, representing its key value. In this lecture, the default form of arrays is provided by NumPy. The array class of NumPy is named `ndarray`. \n",
    "\n",
    "### One-dimensional arrays"
   ]
  },
  {
   "cell_type": "code",
   "execution_count": null,
   "metadata": {},
   "outputs": [],
   "source": [
    "import numpy as np\n",
    "\n",
    "demo_list = [0.1, 1.2, 2.3, 3.4, 4.5, 5.6]; demo_array = np.array(demo_list)\n",
    "print(demo_array)"
   ]
  },
  {
   "attachments": {},
   "cell_type": "markdown",
   "metadata": {},
   "source": [
    "Next, we will explore some features of this array. To begin with, we can use `ndarray.ndim`, which returns the number of array dimensions:"
   ]
  },
  {
   "cell_type": "code",
   "execution_count": null,
   "metadata": {},
   "outputs": [],
   "source": [
    "print(demo_array.ndim)"
   ]
  },
  {
   "attachments": {},
   "cell_type": "markdown",
   "metadata": {},
   "source": [
    "`ndarray.shape`: Provides the shape (dimensionality) of the array.\n",
    "\n",
    "`ndarray.size`: Gives the total number of elements in the array.\n",
    "\n",
    "`ndarray.dtype`: Indicates the data type of array elements.\n",
    "\n",
    "`ndarray.itemsize`: Shows the size (in bytes) of each element in the array."
   ]
  }
 ],
 "metadata": {
  "kernelspec": {
   "display_name": "Python 3",
   "language": "python",
   "name": "python3"
  },
  "language_info": {
   "name": "python",
   "version": "3.11.3"
  },
  "orig_nbformat": 4
 },
 "nbformat": 4,
 "nbformat_minor": 2
}
