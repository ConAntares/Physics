{
 "cells": [
  {
   "attachments": {},
   "cell_type": "markdown",
   "metadata": {},
   "source": [
    "# Fundamentals of Python\n",
    "\n",
    "This lecture will introduce the fundamental techniques required for computational methods. It encompasses the basic usage of Python.\n",
    "\n",
    "## Introduction\n",
    "\n",
    "Python, a dynamically interpreted language, was initiated by Guido van Rossum in 1989. It has been developed across numerous industries and continues to demonstrate tremendous vitality today. Its extensive collection of packages greatly widens its potential applications. While Python can be utilized via the interactive dialogue for quick solutions, and it also supports script execution for crucial computations. Although the interactive dialogue offers convenience and speed, when it comes to computational methods, our primary focus should be on script execution."
   ]
  },
  {
   "cell_type": "code",
   "execution_count": 10,
   "metadata": {},
   "outputs": [
    {
     "name": "stdout",
     "output_type": "stream",
     "text": [
      "For a circle with a radius of 100.0 the circumference is 628.3185307179587 the area is 31415.926535897932\n"
     ]
    }
   ],
   "source": [
    "from math import pi\n",
    "\n",
    "radius = float(input(\"Input a number of radius:\"))\n",
    "perimeter = 2*pi*radius     # the expression of perimeter\n",
    "area = pi*radius**2\n",
    "\n",
    "print(\"For a circle with a radius of\", radius, \"the circumference is\", perimeter, \"the area is\", area)"
   ]
  },
  {
   "attachments": {},
   "cell_type": "markdown",
   "metadata": {},
   "source": [
    "## Variables\n",
    "\n",
    "Variables are a fundamental component in every programming language, serving as placeholders for values that can change or vary. In Python, variables are extremely convenient to use. Since the language is dynamically typed, it means that explicit declaration is unnecessary.\n"
   ]
  },
  {
   "cell_type": "code",
   "execution_count": 2,
   "metadata": {},
   "outputs": [],
   "source": [
    "x = 114.514\n",
    "y = 1919810\n",
    "z = \"Physics\"\n",
    "a = True"
   ]
  },
  {
   "attachments": {},
   "cell_type": "markdown",
   "metadata": {},
   "source": [
    "The characteristics of variables can be demonstrated via particular statements. The statement `type` can show their data type:"
   ]
  },
  {
   "cell_type": "code",
   "execution_count": 3,
   "metadata": {},
   "outputs": [
    {
     "name": "stdout",
     "output_type": "stream",
     "text": [
      "The type of x is: <class 'float'>; \n",
      "The type of y is: <class 'int'>; \n",
      "The type of z is: <class 'str'>.\n"
     ]
    }
   ],
   "source": [
    "print(f\"The type of x is: {type(x)}; \\nThe type of y is: {type(y)}; \\nThe type of z is: {type(z)}.\")"
   ]
  },
  {
   "attachments": {},
   "cell_type": "markdown",
   "metadata": {},
   "source": [
    "The update of variables in Python is direct:"
   ]
  },
  {
   "cell_type": "code",
   "execution_count": 11,
   "metadata": {},
   "outputs": [
    {
     "name": "stdout",
     "output_type": "stream",
     "text": [
      "the source variable is 128, and the updated variable is 512\n"
     ]
    }
   ],
   "source": [
    "main = 128\n",
    "step_1 = main\n",
    "main = 512\n",
    "print(f'the source variable is {step_1}, and the updated variable is {main}.')"
   ]
  },
  {
   "attachments": {},
   "cell_type": "markdown",
   "metadata": {},
   "source": [
    "Variables come in various types. There is a concise summary:\n",
    "\n",
    "* Integer: Represented by class `'int'`, these are whole numbers without decimal points.\n",
    "\n",
    "* Float: Represented by class `'float'`, these are real numbers that include decimal points.\n",
    "\n",
    "* Complex: Represented by class `'complex'`, these numbers consist of both real and imaginary parts.\n",
    "\n",
    "* Boolean: Represented by class `'bool'`, these represent truth values, which can be either True or False.\n",
    "\n",
    "* String: Represented by class `'str'`, these consist of a sequence of characters."
   ]
  },
  {
   "attachments": {},
   "cell_type": "markdown",
   "metadata": {},
   "source": [
    "## Arithmetic\n",
    "\n",
    "The basic arithmetics are also straightforward and convenient. "
   ]
  },
  {
   "cell_type": "code",
   "execution_count": 4,
   "metadata": {},
   "outputs": [
    {
     "name": "stdout",
     "output_type": "stream",
     "text": [
      "We have two numbers: a = 1.3, b = 2.4;\n",
      "Their sum is 3.7;\n",
      "The difference between a and b is -1.0999999999999999;\n",
      "The difference between b and a is 1.0999999999999999;\n",
      "Their product is 3.12;\n",
      "The quotient of a divided by b is 0.5416666666666667.\n"
     ]
    }
   ],
   "source": [
    "# Generate source data\n",
    "a = 1.3; b = 2.4\n",
    "\n",
    "# Perform basic arithmetic operations\n",
    "addition = a + b\n",
    "difference = a - b\n",
    "product = a * b\n",
    "quotient = a / b\n",
    "\n",
    "# Display results\n",
    "print(f\"We have two numbers: a = {a}, b = {b};\")\n",
    "print(f\"Their sum is {addition};\")\n",
    "print(f\"The difference between a and b is {difference};\")\n",
    "print(f\"The difference between b and a is {-difference};\")\n",
    "print(f\"Their product is {product};\")\n",
    "print(f\"The quotient of a divided by b is {quotient}.\")\n"
   ]
  },
  {
   "attachments": {},
   "cell_type": "markdown",
   "metadata": {},
   "source": [
    "Moreover, the product operation `x` can also act on strings:"
   ]
  },
  {
   "cell_type": "code",
   "execution_count": 5,
   "metadata": {},
   "outputs": [
    {
     "name": "stdout",
     "output_type": "stream",
     "text": [
      "Hello\tHello\tHello\tHello\t\n"
     ]
    }
   ],
   "source": [
    "string = ('Hello\\t')\n",
    "multi_string = 4 * string\n",
    "print(multi_string)"
   ]
  },
  {
   "attachments": {},
   "cell_type": "markdown",
   "metadata": {},
   "source": [
    "Furthermore, Python features some built-in arithmetic functions. For instance, `a**b` signifies 'a' raised to the power of 'b':"
   ]
  },
  {
   "cell_type": "code",
   "execution_count": 6,
   "metadata": {},
   "outputs": [
    {
     "name": "stdout",
     "output_type": "stream",
     "text": [
      "a raised to the power of b is 1.8769990185500045\n"
     ]
    }
   ],
   "source": [
    "power = a**b\n",
    "print(f\"a raised to the power of b is {power}\")"
   ]
  },
  {
   "attachments": {},
   "cell_type": "markdown",
   "metadata": {},
   "source": [
    "The statement `a%b` returns the modulo. The following code realizes the even number discrimination via this statement:"
   ]
  },
  {
   "cell_type": "code",
   "execution_count": 7,
   "metadata": {},
   "outputs": [
    {
     "name": "stdout",
     "output_type": "stream",
     "text": [
      "The source number 1145141919810 is even.\n"
     ]
    }
   ],
   "source": [
    "inte = 1145141919810\n",
    "\n",
    "if inte%2 == 0:\n",
    "    print(f\"The source number {inte} is even.\")\n",
    "else:\n",
    "    print(f\"The source number {inte} is odd.\")\n"
   ]
  },
  {
   "attachments": {},
   "cell_type": "markdown",
   "metadata": {},
   "source": [
    "The statement `abs()` returns the absolute value of the given number:"
   ]
  },
  {
   "cell_type": "code",
   "execution_count": 8,
   "metadata": {},
   "outputs": [
    {
     "name": "stdout",
     "output_type": "stream",
     "text": [
      "the absolute value of 1.0999999999999999 is 1.0999999999999999.\n"
     ]
    }
   ],
   "source": [
    "abs_diff = abs(-difference)\n",
    "print(f\"the absolute value of {-difference} is {abs_diff}.\")"
   ]
  },
  {
   "attachments": {},
   "cell_type": "markdown",
   "metadata": {},
   "source": [
    "In addition, the module `math` offers a large number of commonly used mathematical operation statements, we can use `dir(math)` to print the list of statements."
   ]
  },
  {
   "attachments": {},
   "cell_type": "markdown",
   "metadata": {},
   "source": [
    "### While loops"
   ]
  },
  {
   "attachments": {},
   "cell_type": "markdown",
   "metadata": {},
   "source": [
    "### For loops"
   ]
  },
  {
   "attachments": {},
   "cell_type": "markdown",
   "metadata": {},
   "source": [
    "### If"
   ]
  },
  {
   "attachments": {},
   "cell_type": "markdown",
   "metadata": {},
   "source": [
    "### List"
   ]
  },
  {
   "attachments": {},
   "cell_type": "markdown",
   "metadata": {},
   "source": [
    "### Dictionaries"
   ]
  },
  {
   "attachments": {},
   "cell_type": "markdown",
   "metadata": {},
   "source": [
    "### Function definition"
   ]
  }
 ],
 "metadata": {
  "kernelspec": {
   "display_name": "Python 3",
   "language": "python",
   "name": "python3"
  },
  "language_info": {
   "codemirror_mode": {
    "name": "ipython",
    "version": 3
   },
   "file_extension": ".py",
   "mimetype": "text/x-python",
   "name": "python",
   "nbconvert_exporter": "python",
   "pygments_lexer": "ipython3",
   "version": "3.11.3"
  },
  "orig_nbformat": 4
 },
 "nbformat": 4,
 "nbformat_minor": 2
}
