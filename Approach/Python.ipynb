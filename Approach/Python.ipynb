{
 "cells": [
  {
   "attachments": {},
   "cell_type": "markdown",
   "metadata": {},
   "source": [
    "# Fundamentals of Python\n",
    "\n",
    "This lecture will introduce the fundamental techniques required for computational methods. It encompasses the basic usage of Python.\n",
    "\n",
    "## Introduction\n",
    "\n",
    "Python, a dynamically interpreted language, was initiated by Guido van Rossum in 1989. It has been developed across numerous industries and continues to demonstrate tremendous vitality today. Its extensive collection of packages greatly widens its potential applications. While Python can be utilized via the interactive dialogue for quick solutions, and it also supports script execution for crucial computations. Although the interactive dialogue offers convenience and speed, when it comes to computational methods, our primary focus should be on script execution."
   ]
  },
  {
   "cell_type": "code",
   "execution_count": 32,
   "metadata": {},
   "outputs": [
    {
     "name": "stdout",
     "output_type": "stream",
     "text": [
      "For a circle with a radius of 1.0 the circumference is 6.283185307179586 the area is 3.141592653589793\n"
     ]
    }
   ],
   "source": [
    "from math import pi\n",
    "\n",
    "radius = float(input(\"Input a number of radius:\"))\n",
    "perimeter = 2*pi*radius     # the expression of perimeter\n",
    "area = pi*radius**2\n",
    "\n",
    "print(\"For a circle with a radius of\", radius, \"the circumference is\", perimeter, \"the area is\", area)"
   ]
  },
  {
   "attachments": {},
   "cell_type": "markdown",
   "metadata": {},
   "source": [
    "## Variables\n",
    "\n",
    "Variables are a fundamental component in every programming language, serving as placeholders for values that can change or vary. In Python, variables are extremely convenient to use. Since the language is dynamically typed, it means that explicit declaration is unnecessary.\n"
   ]
  },
  {
   "cell_type": "code",
   "execution_count": 33,
   "metadata": {},
   "outputs": [],
   "source": [
    "x = 114.514\n",
    "y = 1919810\n",
    "z = \"Physics\"\n",
    "a = True"
   ]
  },
  {
   "attachments": {},
   "cell_type": "markdown",
   "metadata": {},
   "source": [
    "The characteristics of variables can be demonstrated via particular statements. The statement `type` can show their data type:"
   ]
  },
  {
   "cell_type": "code",
   "execution_count": 34,
   "metadata": {},
   "outputs": [
    {
     "name": "stdout",
     "output_type": "stream",
     "text": [
      "The type of x is: <class 'float'>; \n",
      "The type of y is: <class 'int'>; \n",
      "The type of z is: <class 'str'>.\n"
     ]
    }
   ],
   "source": [
    "print(f\"The type of x is: {type(x)}; \\nThe type of y is: {type(y)}; \\nThe type of z is: {type(z)}.\")"
   ]
  },
  {
   "attachments": {},
   "cell_type": "markdown",
   "metadata": {},
   "source": [
    "The update of variables in Python is direct:"
   ]
  },
  {
   "cell_type": "code",
   "execution_count": 35,
   "metadata": {},
   "outputs": [
    {
     "name": "stdout",
     "output_type": "stream",
     "text": [
      "the source variable is 128, and the updated variable is 512.\n"
     ]
    }
   ],
   "source": [
    "main = 128\n",
    "step_1 = main\n",
    "main = 512\n",
    "print(f'the source variable is {step_1}, and the updated variable is {main}.')"
   ]
  },
  {
   "attachments": {},
   "cell_type": "markdown",
   "metadata": {},
   "source": [
    "Variables come in various types. There is a concise summary:\n",
    "\n",
    "* Integer: Represented by class `'int'`, these are whole numbers without decimal points.\n",
    "\n",
    "* Float: Represented by class `'float'`, these are real numbers that include decimal points.\n",
    "\n",
    "* Complex: Represented by class `'complex'`, these numbers consist of both real and imaginary parts.\n",
    "\n",
    "* Boolean: Represented by class `'bool'`, these represent truth values, which can be either `True` or `False`.\n",
    "\n",
    "* String: Represented by class `'str'`, these consist of a sequence of characters.\n"
   ]
  },
  {
   "attachments": {},
   "cell_type": "markdown",
   "metadata": {},
   "source": [
    "### List"
   ]
  },
  {
   "attachments": {},
   "cell_type": "markdown",
   "metadata": {},
   "source": [
    "### Index\n",
    "\n",
    "In Python, array or list indexing begins with `0` for the first element. However, if you want to index in reverse order, or from the end of the list, the convention changes. The last item is indexed as `-1`, the second to last as `-2`, and so forth. This provides a convenient way to access elements at the end of a list or array without having to know the specific length."
   ]
  },
  {
   "cell_type": "code",
   "execution_count": 36,
   "metadata": {},
   "outputs": [
    {
     "name": "stdout",
     "output_type": "stream",
     "text": [
      "We have a list of '[1.1, 2.2, 3.4, 4.8]', \n",
      "The first element is '1.1', \n",
      "The last element is '4.8'.\n"
     ]
    }
   ],
   "source": [
    "demo_list = [1.1, 2.2, 3.4, 4.8]\n",
    "\n",
    "print(f\"We have a list of '{demo_list}', \\nThe first element is '{demo_list[0]}', \\nThe last element is '{demo_list[-1]}'.\")"
   ]
  },
  {
   "attachments": {},
   "cell_type": "markdown",
   "metadata": {},
   "source": [
    "We are not limited to extracting single elements from a list. It is also available to extract a segment or slice of the list. However, it's important to note that when we use slicing syntax, as in `list[a:b]`, the slice includes the start index `a` but excludes the end index `b`. This means that the element at position `b` is not part of the resulting slice.\n",
    "\n",
    "if the start index `a` is absent as in `list[:b]`, it defaults to the beginning of the list, effectively behaving the same as `list[0:b]`. Similarly, if the end index is left out as in `list[a:]`, it defaults to the length of the list, making it equivalent to `list[a:len(list)]`. Where the statement `len(list)` returns the number of elements in this list.\n"
   ]
  },
  {
   "cell_type": "code",
   "execution_count": 37,
   "metadata": {},
   "outputs": [
    {
     "name": "stdout",
     "output_type": "stream",
     "text": [
      "For this list, the segment from second to forth element is [2.2, 3.4, 4.8].\n",
      "The former segment is: [1.1, 2.2], \n",
      "the later segment is: [3.4, 4.8].\n"
     ]
    }
   ],
   "source": [
    "demo_segment = demo_list[1:4]\n",
    "\n",
    "print(f\"For this list, the segment from second to forth element is {demo_segment}.\")\n",
    "\n",
    "demo_former = demo_list[:2]\n",
    "demo_later  = demo_list[2:]\n",
    "print(f\"The former segment is: {demo_former}, \\nthe later segment is: {demo_later}.\")\n"
   ]
  },
  {
   "attachments": {},
   "cell_type": "markdown",
   "metadata": {},
   "source": [
    "Strings can also be indexed by each letter:"
   ]
  },
  {
   "cell_type": "code",
   "execution_count": 38,
   "metadata": {},
   "outputs": [
    {
     "name": "stdout",
     "output_type": "stream",
     "text": [
      "Our sentence is 'Algorithms and Computational Physics', \n",
      "The first letter in this sentence is 'A', \n",
      "The last letter in this sentence is 's'.\n"
     ]
    }
   ],
   "source": [
    "course = \"Algorithms and Computational Physics\"\n",
    "\n",
    "print(f\"Our sentence is '{course}', \\nThe first letter in this sentence is '{course[0]}', \\nThe last letter in this sentence is '{course[-1]}'.\")"
   ]
  },
  {
   "attachments": {},
   "cell_type": "markdown",
   "metadata": {},
   "source": [
    "It is worth noting that Python is case sensitive. If we want all letters are in capital or lowercase, we can use the following statement:"
   ]
  },
  {
   "cell_type": "code",
   "execution_count": 39,
   "metadata": {},
   "outputs": [
    {
     "name": "stdout",
     "output_type": "stream",
     "text": [
      "ALGORITHMS AND COMPUTATIONAL PHYSICS\n",
      "algorithms and computational physics\n"
     ]
    }
   ],
   "source": [
    "course_captical = course.upper()\n",
    "course_lower = course.lower()\n",
    "\n",
    "print(f\"{course_captical}\\n{course_lower}\")\n"
   ]
  },
  {
   "attachments": {},
   "cell_type": "markdown",
   "metadata": {},
   "source": [
    "The topic of strings is an important component of Python programming. In terms of that, this lecture focus on the numerical methods of Python, we cannot introduce all the contents of the strings process.  For more detail, we can refer to the [official documentation](https://docs.python.org/3/library/string.html)."
   ]
  },
  {
   "attachments": {},
   "cell_type": "markdown",
   "metadata": {},
   "source": [
    "## Arithmetic\n",
    "\n",
    "The basic arithmetics are also straightforward and convenient. The following code demonstrates how they work."
   ]
  },
  {
   "cell_type": "code",
   "execution_count": 40,
   "metadata": {},
   "outputs": [
    {
     "name": "stdout",
     "output_type": "stream",
     "text": [
      "We have two numbers: a = 1.3, b = 2.4;\n",
      "Their sum is 3.7;\n",
      "The difference between a and b is -1.0999999999999999;\n",
      "The difference between b and a is 1.0999999999999999;\n",
      "Their product is 3.12;\n",
      "The quotient of a divided by b is 0.5416666666666667.\n"
     ]
    }
   ],
   "source": [
    "# Generate source data\n",
    "a = 1.3; b = 2.4\n",
    "\n",
    "# Perform basic arithmetic operations\n",
    "addition = a + b\n",
    "difference = a - b\n",
    "product = a * b\n",
    "quotient = a / b\n",
    "\n",
    "\n",
    "# Display results\n",
    "print(f\"We have two numbers: a = {a}, b = {b};\")\n",
    "print(f\"Their sum is {addition};\")\n",
    "print(f\"The difference between a and b is {difference};\")\n",
    "print(f\"The difference between b and a is {-difference};\")\n",
    "print(f\"Their product is {product};\")\n",
    "print(f\"The quotient of a divided by b is {quotient}.\")\n"
   ]
  },
  {
   "attachments": {},
   "cell_type": "markdown",
   "metadata": {},
   "source": [
    "Moreover, the product operation `x` can also act on strings:"
   ]
  },
  {
   "cell_type": "code",
   "execution_count": 41,
   "metadata": {},
   "outputs": [
    {
     "name": "stdout",
     "output_type": "stream",
     "text": [
      "Hello\tHello\tHello\tHello\t\n"
     ]
    }
   ],
   "source": [
    "string = ('Hello\\t')\n",
    "multi_string = 4 * string\n",
    "print(multi_string)"
   ]
  },
  {
   "attachments": {},
   "cell_type": "markdown",
   "metadata": {},
   "source": [
    "Furthermore, Python features some built-in arithmetic functions. For instance, `a**b` signifies `a` raised to the power of `b`, it equals to the statement `pow(a,b)`:"
   ]
  },
  {
   "cell_type": "code",
   "execution_count": 42,
   "metadata": {},
   "outputs": [
    {
     "name": "stdout",
     "output_type": "stream",
     "text": [
      "a raised to the power of b is 1.8769990185500045\n"
     ]
    }
   ],
   "source": [
    "power = a**b\n",
    "print(f\"a raised to the power of b is {power}\")"
   ]
  },
  {
   "attachments": {},
   "cell_type": "markdown",
   "metadata": {},
   "source": [
    "Operator precedence in Python follows the established conventions in mathematics. "
   ]
  },
  {
   "cell_type": "code",
   "execution_count": 47,
   "metadata": {},
   "outputs": [
    {
     "name": "stdout",
     "output_type": "stream",
     "text": [
      "5 + 4×3^2 = 41.\n"
     ]
    }
   ],
   "source": [
    "com = 5 + 4 * 3**2\n",
    "\n",
    "print(f\"5 + 4×3^2 = {com}.\")"
   ]
  },
  {
   "attachments": {},
   "cell_type": "markdown",
   "metadata": {},
   "source": [
    "The statement `a%b` returns the modulo. The following code realizes the even number discrimination via this statement:"
   ]
  },
  {
   "cell_type": "code",
   "execution_count": 44,
   "metadata": {},
   "outputs": [
    {
     "name": "stdout",
     "output_type": "stream",
     "text": [
      "The source number 1145141919810 is even.\n"
     ]
    }
   ],
   "source": [
    "inte = 1145141919810\n",
    "\n",
    "if inte%2 == 0:\n",
    "    print(f\"The source number {inte} is even.\")\n",
    "else:\n",
    "    print(f\"The source number {inte} is odd.\")\n"
   ]
  },
  {
   "attachments": {},
   "cell_type": "markdown",
   "metadata": {},
   "source": [
    "The statement `abs()` returns the absolute value of the given number:"
   ]
  },
  {
   "cell_type": "code",
   "execution_count": 45,
   "metadata": {},
   "outputs": [
    {
     "name": "stdout",
     "output_type": "stream",
     "text": [
      "the absolute value of 1.0999999999999999 is 1.0999999999999999.\n"
     ]
    }
   ],
   "source": [
    "abs_diff = abs(-difference)\n",
    "print(f\"the absolute value of {-difference} is {abs_diff}.\")"
   ]
  },
  {
   "attachments": {},
   "cell_type": "markdown",
   "metadata": {},
   "source": [
    "In addition, the module `math` offers a large number of commonly used mathematical operation statements, we can use `dir(math)` to print the list of statements."
   ]
  },
  {
   "attachments": {},
   "cell_type": "markdown",
   "metadata": {},
   "source": [
    "### While loops"
   ]
  },
  {
   "attachments": {},
   "cell_type": "markdown",
   "metadata": {},
   "source": [
    "### For loops"
   ]
  },
  {
   "attachments": {},
   "cell_type": "markdown",
   "metadata": {},
   "source": [
    "### If"
   ]
  },
  {
   "attachments": {},
   "cell_type": "markdown",
   "metadata": {},
   "source": [
    "### Dictionaries"
   ]
  },
  {
   "attachments": {},
   "cell_type": "markdown",
   "metadata": {},
   "source": [
    "### Function definition"
   ]
  }
 ],
 "metadata": {
  "kernelspec": {
   "display_name": "Python 3",
   "language": "python",
   "name": "python3"
  },
  "language_info": {
   "codemirror_mode": {
    "name": "ipython",
    "version": 3
   },
   "file_extension": ".py",
   "mimetype": "text/x-python",
   "name": "python",
   "nbconvert_exporter": "python",
   "pygments_lexer": "ipython3",
   "version": "3.11.3"
  },
  "orig_nbformat": 4
 },
 "nbformat": 4,
 "nbformat_minor": 2
}
