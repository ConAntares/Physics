{
 "cells": [
  {
   "attachments": {},
   "cell_type": "markdown",
   "metadata": {},
   "source": [
    "# Fundamentals of Python\n",
    "\n",
    "This lecture will introduce the fundamental techniques required for computational methods. It encompasses the basic usage of Python.\n",
    "\n",
    "## Introduction\n",
    "\n",
    "Python, a dynamically interpreted language, was initiated by Guido van Rossum in 1989. It has been developed across numerous industries and continues to demonstrate tremendous vitality today. Its extensive collection of packages greatly widens its potential applications. While Python can be utilized via the interactive dialogue for quick solutions, and it also supports script execution for crucial computations. Although the interactive dialogue offers convenience and speed, when it comes to computational methods, our primary focus should be on script execution."
   ]
  },
  {
   "cell_type": "code",
   "execution_count": 1,
   "metadata": {},
   "outputs": [
    {
     "name": "stdout",
     "output_type": "stream",
     "text": [
      "For a circle with a radius of 0.5 the circumference is 3.141592653589793 the area is 0.7853981633974483\n"
     ]
    }
   ],
   "source": [
    "from math import pi\n",
    "\n",
    "radius = float(input(\"Input a number of radius:\"))\n",
    "perimeter = 2*pi*radius     # the expression of perimeter\n",
    "area = pi*radius**2\n",
    "\n",
    "print(\"For a circle with a radius of\", radius, \"the circumference is\", perimeter, \"the area is\", area)"
   ]
  },
  {
   "attachments": {},
   "cell_type": "markdown",
   "metadata": {},
   "source": [
    "## Variables\n",
    "\n",
    "Variables are a fundamental component in every programming language, serving as placeholders for values that can change or vary. In Python, variables are extremely convenient to use. Since the language is dynamically typed, it means that explicit declaration is unnecessary.\n"
   ]
  },
  {
   "cell_type": "code",
   "execution_count": 2,
   "metadata": {},
   "outputs": [],
   "source": [
    "x = 114.514\n",
    "y = 1919810\n",
    "z = \"Physics\"\n",
    "a = True"
   ]
  },
  {
   "attachments": {},
   "cell_type": "markdown",
   "metadata": {},
   "source": [
    "The characteristics of variables can be demonstrated via particular statements. The statement `type` can show their data type:"
   ]
  },
  {
   "cell_type": "code",
   "execution_count": 3,
   "metadata": {},
   "outputs": [
    {
     "name": "stdout",
     "output_type": "stream",
     "text": [
      "The type of x is: <class 'float'>; \n",
      "The type of y is: <class 'int'>; \n",
      "The type of z is: <class 'str'>.\n"
     ]
    }
   ],
   "source": [
    "print(f\"The type of x is: {type(x)}; \\nThe type of y is: {type(y)}; \\nThe type of z is: {type(z)}.\")"
   ]
  },
  {
   "attachments": {},
   "cell_type": "markdown",
   "metadata": {},
   "source": [
    "The update of variables in Python is direct:"
   ]
  },
  {
   "cell_type": "code",
   "execution_count": 4,
   "metadata": {},
   "outputs": [
    {
     "name": "stdout",
     "output_type": "stream",
     "text": [
      "the source variable is 128, and the updated variable is 512.\n"
     ]
    }
   ],
   "source": [
    "main = 128\n",
    "step_1 = main\n",
    "main = 512\n",
    "print(f'the source variable is {step_1}, and the updated variable is {main}.')"
   ]
  },
  {
   "attachments": {},
   "cell_type": "markdown",
   "metadata": {},
   "source": [
    "Variables come in various types. There is a concise summary:\n",
    "\n",
    "* Integer: Represented by class `'int'`, these are whole numbers without decimal points.\n",
    "\n",
    "* Float: Represented by class `'float'`, these are real numbers that include decimal points.\n",
    "\n",
    "* Complex: Represented by class `'complex'`, these numbers consist of both real and imaginary parts.\n",
    "\n",
    "* Boolean: Represented by class `'bool'`, these represent truth values, which can be either `True` or `False`.\n",
    "\n",
    "* String: Represented by class `'str'`, these consist of a sequence of characters.\n"
   ]
  },
  {
   "attachments": {},
   "cell_type": "markdown",
   "metadata": {},
   "source": [
    "## List"
   ]
  },
  {
   "attachments": {},
   "cell_type": "markdown",
   "metadata": {},
   "source": [
    "## Index\n",
    "\n",
    "In Python, array or list indexing begins with `0` for the first element. However, if you want to index in reverse order, or from the end of the list, the convention changes. The last item is indexed as `-1`, the second to last as `-2`, and so forth. This provides a convenient way to access elements at the end of a list or array without having to know the specific length."
   ]
  },
  {
   "cell_type": "code",
   "execution_count": 5,
   "metadata": {},
   "outputs": [
    {
     "name": "stdout",
     "output_type": "stream",
     "text": [
      "We have a list of '[1.1, 2.2, 3.4, 4.8]', \n",
      "The first element is '1.1', \n",
      "The last element is '4.8'.\n"
     ]
    }
   ],
   "source": [
    "demo_list = [1.1, 2.2, 3.4, 4.8]\n",
    "\n",
    "print(f\"We have a list of '{demo_list}', \\nThe first element is '{demo_list[0]}', \\nThe last element is '{demo_list[-1]}'.\")"
   ]
  },
  {
   "attachments": {},
   "cell_type": "markdown",
   "metadata": {},
   "source": [
    "We are not limited to extracting single elements from a list. It is also available to extract a segment or slice of the list. However, it's important to note that when we use slicing syntax, as in `list[a:b]`, the slice includes the start index `a` but excludes the end index `b`. This means that the element at position `b` is not part of the resulting slice.\n",
    "\n",
    "if the start index `a` is absent as in `list[:b]`, it defaults to the beginning of the list, effectively behaving the same as `list[0:b]`. Similarly, if the end index is left out as in `list[a:]`, it defaults to the length of the list, making it equivalent to `list[a:len(list)]`. Where the statement `len(list)` returns the number of elements in this list.\n"
   ]
  },
  {
   "cell_type": "code",
   "execution_count": 6,
   "metadata": {},
   "outputs": [
    {
     "name": "stdout",
     "output_type": "stream",
     "text": [
      "For this list, the segment from second to forth element is [2.2, 3.4, 4.8].\n",
      "The former segment is: [1.1, 2.2], \n",
      "the later segment is: [3.4, 4.8].\n"
     ]
    }
   ],
   "source": [
    "demo_segment = demo_list[1:4]\n",
    "\n",
    "print(f\"For this list, the segment from second to forth element is {demo_segment}.\")\n",
    "\n",
    "demo_former = demo_list[:2]\n",
    "demo_later  = demo_list[2:]\n",
    "print(f\"The former segment is: {demo_former}, \\nthe later segment is: {demo_later}.\")\n"
   ]
  },
  {
   "attachments": {},
   "cell_type": "markdown",
   "metadata": {},
   "source": [
    "Strings can also be indexed by each letter:"
   ]
  },
  {
   "cell_type": "code",
   "execution_count": 7,
   "metadata": {},
   "outputs": [
    {
     "name": "stdout",
     "output_type": "stream",
     "text": [
      "Our sentence is 'Algorithms and Computational Physics', \n",
      "The first letter in this sentence is 'A', \n",
      "The last letter in this sentence is 's'.\n"
     ]
    }
   ],
   "source": [
    "course = \"Algorithms and Computational Physics\"\n",
    "\n",
    "print(f\"Our sentence is '{course}', \\nThe first letter in this sentence is '{course[0]}', \\nThe last letter in this sentence is '{course[-1]}'.\")"
   ]
  },
  {
   "attachments": {},
   "cell_type": "markdown",
   "metadata": {},
   "source": [
    "It is worth noting that Python is case sensitive. If we want all letters are in capital or lowercase, we can use the following statement:"
   ]
  },
  {
   "cell_type": "code",
   "execution_count": 8,
   "metadata": {},
   "outputs": [
    {
     "name": "stdout",
     "output_type": "stream",
     "text": [
      "ALGORITHMS AND COMPUTATIONAL PHYSICS\n",
      "algorithms and computational physics\n"
     ]
    }
   ],
   "source": [
    "course_captical = course.upper()\n",
    "course_lower = course.lower()\n",
    "\n",
    "print(f\"{course_captical}\\n{course_lower}\")\n"
   ]
  },
  {
   "attachments": {},
   "cell_type": "markdown",
   "metadata": {},
   "source": [
    "The topic of strings is an important component of Python programming. In terms of that, this lecture focus on the numerical methods of Python, we cannot introduce all the contents of the strings process.  For more detail, we can refer to the [official documentation](https://docs.python.org/3/library/string.html)."
   ]
  },
  {
   "attachments": {},
   "cell_type": "markdown",
   "metadata": {},
   "source": [
    "## Arithmetic\n",
    "\n",
    "The basic arithmetics are also straightforward and convenient. The following code demonstrates how they work."
   ]
  },
  {
   "cell_type": "code",
   "execution_count": 9,
   "metadata": {},
   "outputs": [
    {
     "name": "stdout",
     "output_type": "stream",
     "text": [
      "We have two numbers: a = 1.3, b = 2.4;\n",
      "Their sum is 3.7;\n",
      "The difference between a and b is -1.0999999999999999;\n",
      "The difference between b and a is 1.0999999999999999;\n",
      "Their product is 3.12;\n",
      "The quotient of a divided by b is 0.5416666666666667.\n"
     ]
    }
   ],
   "source": [
    "# Generate source data\n",
    "a = 1.3; b = 2.4\n",
    "\n",
    "# Perform basic arithmetic operations\n",
    "addition = a + b\n",
    "difference = a - b\n",
    "product = a * b\n",
    "quotient = a / b\n",
    "\n",
    "# Display results\n",
    "print(f\"We have two numbers: a = {a}, b = {b};\")\n",
    "print(f\"Their sum is {addition};\")\n",
    "print(f\"The difference between a and b is {difference};\")\n",
    "print(f\"The difference between b and a is {-difference};\")\n",
    "print(f\"Their product is {product};\")\n",
    "print(f\"The quotient of a divided by b is {quotient}.\")\n"
   ]
  },
  {
   "attachments": {},
   "cell_type": "markdown",
   "metadata": {},
   "source": [
    "Moreover, the product operation `x` can also act on strings:"
   ]
  },
  {
   "cell_type": "code",
   "execution_count": 10,
   "metadata": {},
   "outputs": [
    {
     "name": "stdout",
     "output_type": "stream",
     "text": [
      "Hello\tHello\tHello\tHello\t\n"
     ]
    }
   ],
   "source": [
    "string = ('Hello\\t')\n",
    "multi_string = 4 * string\n",
    "print(multi_string)"
   ]
  },
  {
   "attachments": {},
   "cell_type": "markdown",
   "metadata": {},
   "source": [
    "Furthermore, Python features some built-in arithmetic functions. For instance, `a**b` signifies `a` raised to the power of `b`, it equals to the statement `pow(a,b)`:"
   ]
  },
  {
   "cell_type": "code",
   "execution_count": 11,
   "metadata": {},
   "outputs": [
    {
     "name": "stdout",
     "output_type": "stream",
     "text": [
      "a raised to the power of b is 1.8769990185500045\n"
     ]
    }
   ],
   "source": [
    "power = a**b\n",
    "print(f\"a raised to the power of b is {power}\")"
   ]
  },
  {
   "attachments": {},
   "cell_type": "markdown",
   "metadata": {},
   "source": [
    "Operator precedence in Python follows the established conventions in mathematics. "
   ]
  },
  {
   "cell_type": "code",
   "execution_count": 12,
   "metadata": {},
   "outputs": [
    {
     "name": "stdout",
     "output_type": "stream",
     "text": [
      "5+4×3^2 = 41,\n",
      "(5+4)×3^2 = 81,\n",
      "5+(4×3)^2 = 149.\n"
     ]
    }
   ],
   "source": [
    "combo_a = 5 + 4 * 3**2\n",
    "combo_b = (5+4) * 3**2\n",
    "combo_c = 5 + (4*3)**2\n",
    "\n",
    "print(f\"5+4×3^2 = {combo_a},\\n(5+4)×3^2 = {combo_b},\\n5+(4×3)^2 = {combo_c}.\")"
   ]
  },
  {
   "attachments": {},
   "cell_type": "markdown",
   "metadata": {},
   "source": [
    "The statement `a%b` returns the modulo. The following code realizes the even number discrimination via this statement:"
   ]
  },
  {
   "cell_type": "code",
   "execution_count": 13,
   "metadata": {},
   "outputs": [
    {
     "name": "stdout",
     "output_type": "stream",
     "text": [
      "The source number 1145141919810 is even.\n"
     ]
    }
   ],
   "source": [
    "inte = 1145141919810\n",
    "\n",
    "if inte%2 == 0:\n",
    "    print(f\"The source number {inte} is even.\")\n",
    "else:\n",
    "    print(f\"The source number {inte} is odd.\")\n"
   ]
  },
  {
   "attachments": {},
   "cell_type": "markdown",
   "metadata": {},
   "source": [
    "Next, we will introduce some built-in arithmetic functions\n",
    "\n",
    "The function `round(a)` returns the rounded value of `a`. It returns the nearest integer for floating-point numbers. If there are two equally close integers, it returns the even one. An optional second argument can specify the number of digits after the decimal point to retain."
   ]
  },
  {
   "cell_type": "code",
   "execution_count": 14,
   "metadata": {},
   "outputs": [
    {
     "name": "stdout",
     "output_type": "stream",
     "text": [
      "The nearest integer of 1.14514 is 1,\n",
      "if we retain 3 digits after the decimal point, we arrive 1.145.\n"
     ]
    }
   ],
   "source": [
    "demo_float = 1.14514; digi = 3\n",
    "demo_round = round(demo_float)\n",
    "demo_round_spec = round(demo_float, digi)\n",
    "\n",
    "print(f\"The nearest integer of {demo_float} is {demo_round},\\nif we retain {digi} digits after the decimal point, we arrive {demo_round_spec}.\")\n"
   ]
  },
  {
   "attachments": {},
   "cell_type": "markdown",
   "metadata": {},
   "source": [
    "The function `abs()` is also a built-in function that returns the absolute value of the given number:"
   ]
  },
  {
   "cell_type": "code",
   "execution_count": 15,
   "metadata": {},
   "outputs": [
    {
     "name": "stdout",
     "output_type": "stream",
     "text": [
      "the absolute value of -1.0999999999999999 is 1.0999999999999999.\n"
     ]
    }
   ],
   "source": [
    "abs_diff = abs(difference)\n",
    "print(f\"the absolute value of {difference} is {abs_diff}.\")"
   ]
  },
  {
   "attachments": {},
   "cell_type": "markdown",
   "metadata": {},
   "source": [
    "In addition, the module `math` offers a large number of commonly used mathematical operation statements, we can use `dir(math)` to print the list of statements. For more detailed information, please refer to the [official documentation](https://docs.python.org/3/library/math.html)."
   ]
  },
  {
   "attachments": {},
   "cell_type": "markdown",
   "metadata": {},
   "source": [
    "## If statement and comparison operators\n",
    "\n",
    "The `if` statement is a conditional statement in Python that allows the program to perform different actions based on whether a specific condition is true or false. Let us consider the following pseudocode:\n",
    "\n",
    "```\n",
    "    if the weather is cold\n",
    "        Turn on the the heat\n",
    "    otherwise if it is hot\n",
    "        Turn on the air conditioner\n",
    "    otherwise\n",
    "        The temperature is comfortable\n",
    "```\n",
    "\n",
    "If statements often come with comparison operators. Here is a list of comparison operators in Python:\n",
    "\n",
    "* `>`: greater than;\n",
    "\n",
    "* `<`: less than;\n",
    "\n",
    "* `>=`: greater than or equal to;\n",
    "\n",
    "* `>=`: less than or equal to;\n",
    "\n",
    "* `==`: equal to;\n",
    "\n",
    "* `==`: not equal to;\n",
    "\n",
    "The following code demonstrates the syntax of `if` statement and comparison operators:\n"
   ]
  },
  {
   "cell_type": "code",
   "execution_count": 16,
   "metadata": {},
   "outputs": [
    {
     "name": "stdout",
     "output_type": "stream",
     "text": [
      "The temperature is comfortable.\n"
     ]
    }
   ],
   "source": [
    "temperature = 25\n",
    "\n",
    "if temperature < 20:\n",
    "    print(\"It is a cold day, turn on the the heat.\")\n",
    "elif temperature >=30:\n",
    "    print(\"It is a hot day, turn on the air conditioner.\")\n",
    "else:\n",
    "    print(\"The temperature is comfortable.\")"
   ]
  },
  {
   "attachments": {},
   "cell_type": "markdown",
   "metadata": {},
   "source": [
    "## Logical operator\n",
    "\n",
    "The logical operators form the cornerstone of any programming language, Python included. These operators allow us to create more complex conditional statements by combining or modifying conditions. Python's logical operators are:\n",
    "\n",
    "* `and` returns `True` if both conditions on its sides are `True`;\n",
    "\n",
    "* `or` returns `True` if at least one of the conditions on its sides is `True`;\n",
    "\n",
    "* `not` returns `True` if the condition following it is `False`, vice versa.\n",
    "\n",
    "The following two codes offers an example of how they work:"
   ]
  },
  {
   "cell_type": "code",
   "execution_count": 17,
   "metadata": {},
   "outputs": [
    {
     "name": "stdout",
     "output_type": "stream",
     "text": [
      "The price of cookie is 1.99, The price of cake is 9.49.\n",
      "We can purchase both cookie and cake.\n"
     ]
    }
   ],
   "source": [
    "cookie_price = 1.99\n",
    "cake_price = 9.49\n",
    "cash = 11.5\n",
    "\n",
    "print(f\"The price of cookie is {cookie_price}, The price of cake is {cake_price}.\")\n",
    "\n",
    "if not cash < cake_price + cookie_price:\n",
    "    print(\"We can purchase both cookie and cake.\")\n",
    "elif cash >= cookie_price or cash >= cake_price:\n",
    "    print(\"We can have a least one of them.\")\n",
    "elif cash < cookie_price and cash < cake_price:\n",
    "    print(\"They are too expensive for us :(.\")"
   ]
  },
  {
   "cell_type": "code",
   "execution_count": 18,
   "metadata": {},
   "outputs": [
    {
     "name": "stdout",
     "output_type": "stream",
     "text": [
      "If switches a and b are in series, the circuit is disconnected\n",
      "If switches a and b are in parallel, the circuit is connected\n"
     ]
    }
   ],
   "source": [
    "switch_a_close = False\n",
    "switch_b_close = True\n",
    "\n",
    "if switch_a_close and switch_b_close:\n",
    "    print(\"If switches a and b are in series, the circuit is connected\")\n",
    "else:\n",
    "    print(\"If switches a and b are in series, the circuit is disconnected\")\n",
    "\n",
    "if switch_a_close or switch_b_close:\n",
    "    print(\"If switches a and b are in parallel, the circuit is connected\")\n",
    "else:\n",
    "    print(\"If switches a and b are in parallel, the circuit is disconnected\")\n"
   ]
  },
  {
   "attachments": {},
   "cell_type": "markdown",
   "metadata": {},
   "source": [
    "## While loops"
   ]
  },
  {
   "attachments": {},
   "cell_type": "markdown",
   "metadata": {},
   "source": [
    "## For loops"
   ]
  },
  {
   "attachments": {},
   "cell_type": "markdown",
   "metadata": {},
   "source": [
    "## Dictionaries"
   ]
  },
  {
   "attachments": {},
   "cell_type": "markdown",
   "metadata": {},
   "source": [
    "## Function definition"
   ]
  }
 ],
 "metadata": {
  "kernelspec": {
   "display_name": "Python 3",
   "language": "python",
   "name": "python3"
  },
  "language_info": {
   "codemirror_mode": {
    "name": "ipython",
    "version": 3
   },
   "file_extension": ".py",
   "mimetype": "text/x-python",
   "name": "python",
   "nbconvert_exporter": "python",
   "pygments_lexer": "ipython3",
   "version": "3.11.3"
  },
  "orig_nbformat": 4
 },
 "nbformat": 4,
 "nbformat_minor": 2
}
